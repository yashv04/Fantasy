{
  "nbformat": 4,
  "nbformat_minor": 0,
  "metadata": {
    "colab": {
      "provenance": [],
      "authorship_tag": "ABX9TyPxEc9mIscnQnFQSaE+XbJy",
      "include_colab_link": true
    },
    "kernelspec": {
      "name": "python3",
      "display_name": "Python 3"
    },
    "language_info": {
      "name": "python"
    },
    "widgets": {
      "application/vnd.jupyter.widget-state+json": {
        "56e63c3cf73d42a494e65ebf687cd6f2": {
          "model_module": "@jupyter-widgets/controls",
          "model_name": "DropdownModel",
          "model_module_version": "1.5.0",
          "state": {
            "_dom_classes": [],
            "_model_module": "@jupyter-widgets/controls",
            "_model_module_version": "1.5.0",
            "_model_name": "DropdownModel",
            "_options_labels": [
              "Wankhede",
              "Chepauk",
              "Chinnaswamy"
            ],
            "_view_count": null,
            "_view_module": "@jupyter-widgets/controls",
            "_view_module_version": "1.5.0",
            "_view_name": "DropdownView",
            "description": "Venue:",
            "description_tooltip": null,
            "disabled": false,
            "index": 0,
            "layout": "IPY_MODEL_d2805f88b25e44e8b745a7a8ac97b559",
            "style": "IPY_MODEL_e52b51d00acd4cbdb57fba75200fe59e"
          }
        },
        "d2805f88b25e44e8b745a7a8ac97b559": {
          "model_module": "@jupyter-widgets/base",
          "model_name": "LayoutModel",
          "model_module_version": "1.2.0",
          "state": {
            "_model_module": "@jupyter-widgets/base",
            "_model_module_version": "1.2.0",
            "_model_name": "LayoutModel",
            "_view_count": null,
            "_view_module": "@jupyter-widgets/base",
            "_view_module_version": "1.2.0",
            "_view_name": "LayoutView",
            "align_content": null,
            "align_items": null,
            "align_self": null,
            "border": null,
            "bottom": null,
            "display": null,
            "flex": null,
            "flex_flow": null,
            "grid_area": null,
            "grid_auto_columns": null,
            "grid_auto_flow": null,
            "grid_auto_rows": null,
            "grid_column": null,
            "grid_gap": null,
            "grid_row": null,
            "grid_template_areas": null,
            "grid_template_columns": null,
            "grid_template_rows": null,
            "height": null,
            "justify_content": null,
            "justify_items": null,
            "left": null,
            "margin": null,
            "max_height": null,
            "max_width": null,
            "min_height": null,
            "min_width": null,
            "object_fit": null,
            "object_position": null,
            "order": null,
            "overflow": null,
            "overflow_x": null,
            "overflow_y": null,
            "padding": null,
            "right": null,
            "top": null,
            "visibility": null,
            "width": null
          }
        },
        "e52b51d00acd4cbdb57fba75200fe59e": {
          "model_module": "@jupyter-widgets/controls",
          "model_name": "DescriptionStyleModel",
          "model_module_version": "1.5.0",
          "state": {
            "_model_module": "@jupyter-widgets/controls",
            "_model_module_version": "1.5.0",
            "_model_name": "DescriptionStyleModel",
            "_view_count": null,
            "_view_module": "@jupyter-widgets/base",
            "_view_module_version": "1.2.0",
            "_view_name": "StyleView",
            "description_width": ""
          }
        },
        "c6600161b21749f4a01baf218d2ecc07": {
          "model_module": "@jupyter-widgets/controls",
          "model_name": "RadioButtonsModel",
          "model_module_version": "1.5.0",
          "state": {
            "_dom_classes": [],
            "_model_module": "@jupyter-widgets/controls",
            "_model_module_version": "1.5.0",
            "_model_name": "RadioButtonsModel",
            "_options_labels": [
              "Pace",
              "Spin"
            ],
            "_view_count": null,
            "_view_module": "@jupyter-widgets/controls",
            "_view_module_version": "1.5.0",
            "_view_name": "RadioButtonsView",
            "description": "Bowler:",
            "description_tooltip": null,
            "disabled": false,
            "index": 0,
            "layout": "IPY_MODEL_9cc2413941eb4b91a20d193951e20828",
            "style": "IPY_MODEL_cff62f259bf24a3ab72330d3d94e7b9c"
          }
        },
        "9cc2413941eb4b91a20d193951e20828": {
          "model_module": "@jupyter-widgets/base",
          "model_name": "LayoutModel",
          "model_module_version": "1.2.0",
          "state": {
            "_model_module": "@jupyter-widgets/base",
            "_model_module_version": "1.2.0",
            "_model_name": "LayoutModel",
            "_view_count": null,
            "_view_module": "@jupyter-widgets/base",
            "_view_module_version": "1.2.0",
            "_view_name": "LayoutView",
            "align_content": null,
            "align_items": null,
            "align_self": null,
            "border": null,
            "bottom": null,
            "display": null,
            "flex": null,
            "flex_flow": null,
            "grid_area": null,
            "grid_auto_columns": null,
            "grid_auto_flow": null,
            "grid_auto_rows": null,
            "grid_column": null,
            "grid_gap": null,
            "grid_row": null,
            "grid_template_areas": null,
            "grid_template_columns": null,
            "grid_template_rows": null,
            "height": null,
            "justify_content": null,
            "justify_items": null,
            "left": null,
            "margin": null,
            "max_height": null,
            "max_width": null,
            "min_height": null,
            "min_width": null,
            "object_fit": null,
            "object_position": null,
            "order": null,
            "overflow": null,
            "overflow_x": null,
            "overflow_y": null,
            "padding": null,
            "right": null,
            "top": null,
            "visibility": null,
            "width": null
          }
        },
        "cff62f259bf24a3ab72330d3d94e7b9c": {
          "model_module": "@jupyter-widgets/controls",
          "model_name": "DescriptionStyleModel",
          "model_module_version": "1.5.0",
          "state": {
            "_model_module": "@jupyter-widgets/controls",
            "_model_module_version": "1.5.0",
            "_model_name": "DescriptionStyleModel",
            "_view_count": null,
            "_view_module": "@jupyter-widgets/base",
            "_view_module_version": "1.2.0",
            "_view_name": "StyleView",
            "description_width": ""
          }
        },
        "e316a1afc6994c118595c67c41ea5479": {
          "model_module": "@jupyter-widgets/controls",
          "model_name": "ButtonModel",
          "model_module_version": "1.5.0",
          "state": {
            "_dom_classes": [],
            "_model_module": "@jupyter-widgets/controls",
            "_model_module_version": "1.5.0",
            "_model_name": "ButtonModel",
            "_view_count": null,
            "_view_module": "@jupyter-widgets/controls",
            "_view_module_version": "1.5.0",
            "_view_name": "ButtonView",
            "button_style": "",
            "description": "Simulate",
            "disabled": false,
            "icon": "",
            "layout": "IPY_MODEL_d101fd3733b94439b036dc3c7af793e8",
            "style": "IPY_MODEL_78bc2df696e54a54aae250db3d09dbfe",
            "tooltip": ""
          }
        },
        "d101fd3733b94439b036dc3c7af793e8": {
          "model_module": "@jupyter-widgets/base",
          "model_name": "LayoutModel",
          "model_module_version": "1.2.0",
          "state": {
            "_model_module": "@jupyter-widgets/base",
            "_model_module_version": "1.2.0",
            "_model_name": "LayoutModel",
            "_view_count": null,
            "_view_module": "@jupyter-widgets/base",
            "_view_module_version": "1.2.0",
            "_view_name": "LayoutView",
            "align_content": null,
            "align_items": null,
            "align_self": null,
            "border": null,
            "bottom": null,
            "display": null,
            "flex": null,
            "flex_flow": null,
            "grid_area": null,
            "grid_auto_columns": null,
            "grid_auto_flow": null,
            "grid_auto_rows": null,
            "grid_column": null,
            "grid_gap": null,
            "grid_row": null,
            "grid_template_areas": null,
            "grid_template_columns": null,
            "grid_template_rows": null,
            "height": null,
            "justify_content": null,
            "justify_items": null,
            "left": null,
            "margin": null,
            "max_height": null,
            "max_width": null,
            "min_height": null,
            "min_width": null,
            "object_fit": null,
            "object_position": null,
            "order": null,
            "overflow": null,
            "overflow_x": null,
            "overflow_y": null,
            "padding": null,
            "right": null,
            "top": null,
            "visibility": null,
            "width": null
          }
        },
        "78bc2df696e54a54aae250db3d09dbfe": {
          "model_module": "@jupyter-widgets/controls",
          "model_name": "ButtonStyleModel",
          "model_module_version": "1.5.0",
          "state": {
            "_model_module": "@jupyter-widgets/controls",
            "_model_module_version": "1.5.0",
            "_model_name": "ButtonStyleModel",
            "_view_count": null,
            "_view_module": "@jupyter-widgets/base",
            "_view_module_version": "1.2.0",
            "_view_name": "StyleView",
            "button_color": null,
            "font_weight": ""
          }
        },
        "36b60495d3784e74ab3540790aa2f036": {
          "model_module": "@jupyter-widgets/output",
          "model_name": "OutputModel",
          "model_module_version": "1.0.0",
          "state": {
            "_dom_classes": [],
            "_model_module": "@jupyter-widgets/output",
            "_model_module_version": "1.0.0",
            "_model_name": "OutputModel",
            "_view_count": null,
            "_view_module": "@jupyter-widgets/output",
            "_view_module_version": "1.0.0",
            "_view_name": "OutputView",
            "layout": "IPY_MODEL_c7abc8f786e745b181a7cdf80434a75a",
            "msg_id": "",
            "outputs": [
              {
                "output_type": "display_data",
                "data": {
                  "text/plain": "<Figure size 1400x500 with 2 Axes>",
                  "image/png": "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\n"
                },
                "metadata": {}
              }
            ]
          }
        },
        "c7abc8f786e745b181a7cdf80434a75a": {
          "model_module": "@jupyter-widgets/base",
          "model_name": "LayoutModel",
          "model_module_version": "1.2.0",
          "state": {
            "_model_module": "@jupyter-widgets/base",
            "_model_module_version": "1.2.0",
            "_model_name": "LayoutModel",
            "_view_count": null,
            "_view_module": "@jupyter-widgets/base",
            "_view_module_version": "1.2.0",
            "_view_name": "LayoutView",
            "align_content": null,
            "align_items": null,
            "align_self": null,
            "border": null,
            "bottom": null,
            "display": null,
            "flex": null,
            "flex_flow": null,
            "grid_area": null,
            "grid_auto_columns": null,
            "grid_auto_flow": null,
            "grid_auto_rows": null,
            "grid_column": null,
            "grid_gap": null,
            "grid_row": null,
            "grid_template_areas": null,
            "grid_template_columns": null,
            "grid_template_rows": null,
            "height": null,
            "justify_content": null,
            "justify_items": null,
            "left": null,
            "margin": null,
            "max_height": null,
            "max_width": null,
            "min_height": null,
            "min_width": null,
            "object_fit": null,
            "object_position": null,
            "order": null,
            "overflow": null,
            "overflow_x": null,
            "overflow_y": null,
            "padding": null,
            "right": null,
            "top": null,
            "visibility": null,
            "width": null
          }
        },
        "fcb26d24b9a140d8b78e7e0b2e94ceab": {
          "model_module": "@jupyter-widgets/controls",
          "model_name": "DropdownModel",
          "model_module_version": "1.5.0",
          "state": {
            "_dom_classes": [],
            "_model_module": "@jupyter-widgets/controls",
            "_model_module_version": "1.5.0",
            "_model_name": "DropdownModel",
            "_options_labels": [
              "Wankhede",
              "Chepauk",
              "Chinnaswamy"
            ],
            "_view_count": null,
            "_view_module": "@jupyter-widgets/controls",
            "_view_module_version": "1.5.0",
            "_view_name": "DropdownView",
            "description": "Venue:",
            "description_tooltip": null,
            "disabled": false,
            "index": 2,
            "layout": "IPY_MODEL_26cdf9be3c5843739b9ab4f92ca73103",
            "style": "IPY_MODEL_4ce540dfb80f43dc9f61e53c8adad3ed"
          }
        },
        "26cdf9be3c5843739b9ab4f92ca73103": {
          "model_module": "@jupyter-widgets/base",
          "model_name": "LayoutModel",
          "model_module_version": "1.2.0",
          "state": {
            "_model_module": "@jupyter-widgets/base",
            "_model_module_version": "1.2.0",
            "_model_name": "LayoutModel",
            "_view_count": null,
            "_view_module": "@jupyter-widgets/base",
            "_view_module_version": "1.2.0",
            "_view_name": "LayoutView",
            "align_content": null,
            "align_items": null,
            "align_self": null,
            "border": null,
            "bottom": null,
            "display": null,
            "flex": null,
            "flex_flow": null,
            "grid_area": null,
            "grid_auto_columns": null,
            "grid_auto_flow": null,
            "grid_auto_rows": null,
            "grid_column": null,
            "grid_gap": null,
            "grid_row": null,
            "grid_template_areas": null,
            "grid_template_columns": null,
            "grid_template_rows": null,
            "height": null,
            "justify_content": null,
            "justify_items": null,
            "left": null,
            "margin": null,
            "max_height": null,
            "max_width": null,
            "min_height": null,
            "min_width": null,
            "object_fit": null,
            "object_position": null,
            "order": null,
            "overflow": null,
            "overflow_x": null,
            "overflow_y": null,
            "padding": null,
            "right": null,
            "top": null,
            "visibility": null,
            "width": null
          }
        },
        "4ce540dfb80f43dc9f61e53c8adad3ed": {
          "model_module": "@jupyter-widgets/controls",
          "model_name": "DescriptionStyleModel",
          "model_module_version": "1.5.0",
          "state": {
            "_model_module": "@jupyter-widgets/controls",
            "_model_module_version": "1.5.0",
            "_model_name": "DescriptionStyleModel",
            "_view_count": null,
            "_view_module": "@jupyter-widgets/base",
            "_view_module_version": "1.2.0",
            "_view_name": "StyleView",
            "description_width": ""
          }
        },
        "b481d437f85d49739b66a3e9eea36255": {
          "model_module": "@jupyter-widgets/controls",
          "model_name": "DropdownModel",
          "model_module_version": "1.5.0",
          "state": {
            "_dom_classes": [],
            "_model_module": "@jupyter-widgets/controls",
            "_model_module_version": "1.5.0",
            "_model_name": "DropdownModel",
            "_options_labels": [
              "bat",
              "field"
            ],
            "_view_count": null,
            "_view_module": "@jupyter-widgets/controls",
            "_view_module_version": "1.5.0",
            "_view_name": "DropdownView",
            "description": "Toss Decision:",
            "description_tooltip": null,
            "disabled": false,
            "index": 1,
            "layout": "IPY_MODEL_27557253554b4c44bb396b26bbdd0c41",
            "style": "IPY_MODEL_4b13066c153e49c68699e6d908059225"
          }
        },
        "27557253554b4c44bb396b26bbdd0c41": {
          "model_module": "@jupyter-widgets/base",
          "model_name": "LayoutModel",
          "model_module_version": "1.2.0",
          "state": {
            "_model_module": "@jupyter-widgets/base",
            "_model_module_version": "1.2.0",
            "_model_name": "LayoutModel",
            "_view_count": null,
            "_view_module": "@jupyter-widgets/base",
            "_view_module_version": "1.2.0",
            "_view_name": "LayoutView",
            "align_content": null,
            "align_items": null,
            "align_self": null,
            "border": null,
            "bottom": null,
            "display": null,
            "flex": null,
            "flex_flow": null,
            "grid_area": null,
            "grid_auto_columns": null,
            "grid_auto_flow": null,
            "grid_auto_rows": null,
            "grid_column": null,
            "grid_gap": null,
            "grid_row": null,
            "grid_template_areas": null,
            "grid_template_columns": null,
            "grid_template_rows": null,
            "height": null,
            "justify_content": null,
            "justify_items": null,
            "left": null,
            "margin": null,
            "max_height": null,
            "max_width": null,
            "min_height": null,
            "min_width": null,
            "object_fit": null,
            "object_position": null,
            "order": null,
            "overflow": null,
            "overflow_x": null,
            "overflow_y": null,
            "padding": null,
            "right": null,
            "top": null,
            "visibility": null,
            "width": null
          }
        },
        "4b13066c153e49c68699e6d908059225": {
          "model_module": "@jupyter-widgets/controls",
          "model_name": "DescriptionStyleModel",
          "model_module_version": "1.5.0",
          "state": {
            "_model_module": "@jupyter-widgets/controls",
            "_model_module_version": "1.5.0",
            "_model_name": "DescriptionStyleModel",
            "_view_count": null,
            "_view_module": "@jupyter-widgets/base",
            "_view_module_version": "1.2.0",
            "_view_name": "StyleView",
            "description_width": ""
          }
        },
        "feee2746b96f4f7ca6cfcd53349deba2": {
          "model_module": "@jupyter-widgets/controls",
          "model_name": "SelectMultipleModel",
          "model_module_version": "1.5.0",
          "state": {
            "_dom_classes": [],
            "_model_module": "@jupyter-widgets/controls",
            "_model_module_version": "1.5.0",
            "_model_name": "SelectMultipleModel",
            "_options_labels": [
              "CH Gayle",
              "AB de Villiers",
              "GJ Maxwell"
            ],
            "_view_count": null,
            "_view_module": "@jupyter-widgets/controls",
            "_view_module_version": "1.5.0",
            "_view_name": "SelectMultipleView",
            "description": "Team 1 Lineup:",
            "description_tooltip": null,
            "disabled": false,
            "index": [],
            "layout": "IPY_MODEL_48fd12d36c0841b89792923be0aab2a2",
            "rows": 5,
            "style": "IPY_MODEL_1912171f0e1b4f3d902f62ed625ab2e0"
          }
        },
        "48fd12d36c0841b89792923be0aab2a2": {
          "model_module": "@jupyter-widgets/base",
          "model_name": "LayoutModel",
          "model_module_version": "1.2.0",
          "state": {
            "_model_module": "@jupyter-widgets/base",
            "_model_module_version": "1.2.0",
            "_model_name": "LayoutModel",
            "_view_count": null,
            "_view_module": "@jupyter-widgets/base",
            "_view_module_version": "1.2.0",
            "_view_name": "LayoutView",
            "align_content": null,
            "align_items": null,
            "align_self": null,
            "border": null,
            "bottom": null,
            "display": null,
            "flex": null,
            "flex_flow": null,
            "grid_area": null,
            "grid_auto_columns": null,
            "grid_auto_flow": null,
            "grid_auto_rows": null,
            "grid_column": null,
            "grid_gap": null,
            "grid_row": null,
            "grid_template_areas": null,
            "grid_template_columns": null,
            "grid_template_rows": null,
            "height": null,
            "justify_content": null,
            "justify_items": null,
            "left": null,
            "margin": null,
            "max_height": null,
            "max_width": null,
            "min_height": null,
            "min_width": null,
            "object_fit": null,
            "object_position": null,
            "order": null,
            "overflow": null,
            "overflow_x": null,
            "overflow_y": null,
            "padding": null,
            "right": null,
            "top": null,
            "visibility": null,
            "width": null
          }
        },
        "1912171f0e1b4f3d902f62ed625ab2e0": {
          "model_module": "@jupyter-widgets/controls",
          "model_name": "DescriptionStyleModel",
          "model_module_version": "1.5.0",
          "state": {
            "_model_module": "@jupyter-widgets/controls",
            "_model_module_version": "1.5.0",
            "_model_name": "DescriptionStyleModel",
            "_view_count": null,
            "_view_module": "@jupyter-widgets/base",
            "_view_module_version": "1.2.0",
            "_view_name": "StyleView",
            "description_width": ""
          }
        },
        "a6b348f072dd4c5888639dde48eaf1bc": {
          "model_module": "@jupyter-widgets/controls",
          "model_name": "SelectMultipleModel",
          "model_module_version": "1.5.0",
          "state": {
            "_dom_classes": [],
            "_model_module": "@jupyter-widgets/controls",
            "_model_module_version": "1.5.0",
            "_model_name": "SelectMultipleModel",
            "_options_labels": [
              "DJ Bravo",
              "JR Hazlewood",
              "MJ Santner"
            ],
            "_view_count": null,
            "_view_module": "@jupyter-widgets/controls",
            "_view_module_version": "1.5.0",
            "_view_name": "SelectMultipleView",
            "description": "Team 2 Lineup:",
            "description_tooltip": null,
            "disabled": false,
            "index": [],
            "layout": "IPY_MODEL_08793599afbc49f49694e2b88cc6cbc0",
            "rows": 5,
            "style": "IPY_MODEL_c8d6c547dc9e49469ff69a17a21b4963"
          }
        },
        "08793599afbc49f49694e2b88cc6cbc0": {
          "model_module": "@jupyter-widgets/base",
          "model_name": "LayoutModel",
          "model_module_version": "1.2.0",
          "state": {
            "_model_module": "@jupyter-widgets/base",
            "_model_module_version": "1.2.0",
            "_model_name": "LayoutModel",
            "_view_count": null,
            "_view_module": "@jupyter-widgets/base",
            "_view_module_version": "1.2.0",
            "_view_name": "LayoutView",
            "align_content": null,
            "align_items": null,
            "align_self": null,
            "border": null,
            "bottom": null,
            "display": null,
            "flex": null,
            "flex_flow": null,
            "grid_area": null,
            "grid_auto_columns": null,
            "grid_auto_flow": null,
            "grid_auto_rows": null,
            "grid_column": null,
            "grid_gap": null,
            "grid_row": null,
            "grid_template_areas": null,
            "grid_template_columns": null,
            "grid_template_rows": null,
            "height": null,
            "justify_content": null,
            "justify_items": null,
            "left": null,
            "margin": null,
            "max_height": null,
            "max_width": null,
            "min_height": null,
            "min_width": null,
            "object_fit": null,
            "object_position": null,
            "order": null,
            "overflow": null,
            "overflow_x": null,
            "overflow_y": null,
            "padding": null,
            "right": null,
            "top": null,
            "visibility": null,
            "width": null
          }
        },
        "c8d6c547dc9e49469ff69a17a21b4963": {
          "model_module": "@jupyter-widgets/controls",
          "model_name": "DescriptionStyleModel",
          "model_module_version": "1.5.0",
          "state": {
            "_model_module": "@jupyter-widgets/controls",
            "_model_module_version": "1.5.0",
            "_model_name": "DescriptionStyleModel",
            "_view_count": null,
            "_view_module": "@jupyter-widgets/base",
            "_view_module_version": "1.2.0",
            "_view_name": "StyleView",
            "description_width": ""
          }
        },
        "f7b732cbee144887beb10b5807bce1fa": {
          "model_module": "@jupyter-widgets/controls",
          "model_name": "ButtonModel",
          "model_module_version": "1.5.0",
          "state": {
            "_dom_classes": [],
            "_model_module": "@jupyter-widgets/controls",
            "_model_module_version": "1.5.0",
            "_model_name": "ButtonModel",
            "_view_count": null,
            "_view_module": "@jupyter-widgets/controls",
            "_view_module_version": "1.5.0",
            "_view_name": "ButtonView",
            "button_style": "",
            "description": "Simulate Match",
            "disabled": false,
            "icon": "",
            "layout": "IPY_MODEL_58aea2858ba74fd1a192a1c2f1ef39bd",
            "style": "IPY_MODEL_d379ec8bfd744406a68313db167bb6d8",
            "tooltip": ""
          }
        },
        "58aea2858ba74fd1a192a1c2f1ef39bd": {
          "model_module": "@jupyter-widgets/base",
          "model_name": "LayoutModel",
          "model_module_version": "1.2.0",
          "state": {
            "_model_module": "@jupyter-widgets/base",
            "_model_module_version": "1.2.0",
            "_model_name": "LayoutModel",
            "_view_count": null,
            "_view_module": "@jupyter-widgets/base",
            "_view_module_version": "1.2.0",
            "_view_name": "LayoutView",
            "align_content": null,
            "align_items": null,
            "align_self": null,
            "border": null,
            "bottom": null,
            "display": null,
            "flex": null,
            "flex_flow": null,
            "grid_area": null,
            "grid_auto_columns": null,
            "grid_auto_flow": null,
            "grid_auto_rows": null,
            "grid_column": null,
            "grid_gap": null,
            "grid_row": null,
            "grid_template_areas": null,
            "grid_template_columns": null,
            "grid_template_rows": null,
            "height": null,
            "justify_content": null,
            "justify_items": null,
            "left": null,
            "margin": null,
            "max_height": null,
            "max_width": null,
            "min_height": null,
            "min_width": null,
            "object_fit": null,
            "object_position": null,
            "order": null,
            "overflow": null,
            "overflow_x": null,
            "overflow_y": null,
            "padding": null,
            "right": null,
            "top": null,
            "visibility": null,
            "width": null
          }
        },
        "d379ec8bfd744406a68313db167bb6d8": {
          "model_module": "@jupyter-widgets/controls",
          "model_name": "ButtonStyleModel",
          "model_module_version": "1.5.0",
          "state": {
            "_model_module": "@jupyter-widgets/controls",
            "_model_module_version": "1.5.0",
            "_model_name": "ButtonStyleModel",
            "_view_count": null,
            "_view_module": "@jupyter-widgets/base",
            "_view_module_version": "1.2.0",
            "_view_name": "StyleView",
            "button_color": null,
            "font_weight": ""
          }
        },
        "d29541d8ef5c4253a977d3e6c012a8a2": {
          "model_module": "@jupyter-widgets/output",
          "model_name": "OutputModel",
          "model_module_version": "1.0.0",
          "state": {
            "_dom_classes": [],
            "_model_module": "@jupyter-widgets/output",
            "_model_module_version": "1.0.0",
            "_model_name": "OutputModel",
            "_view_count": null,
            "_view_module": "@jupyter-widgets/output",
            "_view_module_version": "1.0.0",
            "_view_name": "OutputView",
            "layout": "IPY_MODEL_bd289913939d46d79fb59ef0fb7056a2",
            "msg_id": "",
            "outputs": [
              {
                "output_type": "display_data",
                "data": {
                  "text/plain": "<Figure size 1400x500 with 2 Axes>",
                  "image/png": "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\n"
                },
                "metadata": {}
              }
            ]
          }
        },
        "bd289913939d46d79fb59ef0fb7056a2": {
          "model_module": "@jupyter-widgets/base",
          "model_name": "LayoutModel",
          "model_module_version": "1.2.0",
          "state": {
            "_model_module": "@jupyter-widgets/base",
            "_model_module_version": "1.2.0",
            "_model_name": "LayoutModel",
            "_view_count": null,
            "_view_module": "@jupyter-widgets/base",
            "_view_module_version": "1.2.0",
            "_view_name": "LayoutView",
            "align_content": null,
            "align_items": null,
            "align_self": null,
            "border": null,
            "bottom": null,
            "display": null,
            "flex": null,
            "flex_flow": null,
            "grid_area": null,
            "grid_auto_columns": null,
            "grid_auto_flow": null,
            "grid_auto_rows": null,
            "grid_column": null,
            "grid_gap": null,
            "grid_row": null,
            "grid_template_areas": null,
            "grid_template_columns": null,
            "grid_template_rows": null,
            "height": null,
            "justify_content": null,
            "justify_items": null,
            "left": null,
            "margin": null,
            "max_height": null,
            "max_width": null,
            "min_height": null,
            "min_width": null,
            "object_fit": null,
            "object_position": null,
            "order": null,
            "overflow": null,
            "overflow_x": null,
            "overflow_y": null,
            "padding": null,
            "right": null,
            "top": null,
            "visibility": null,
            "width": null
          }
        }
      }
    }
  },
  "cells": [
    {
      "cell_type": "markdown",
      "metadata": {
        "id": "view-in-github",
        "colab_type": "text"
      },
      "source": [
        "<a href=\"https://colab.research.google.com/github/yashv04/Fantasy/blob/main/Match_Simulator_%2B_Opponent_Strategy_AI.ipynb\" target=\"_parent\"><img src=\"https://colab.research.google.com/assets/colab-badge.svg\" alt=\"Open In Colab\"/></a>"
      ]
    },
    {
      "cell_type": "markdown",
      "source": [
        "#Implement ball-by-ball match simulator (Markov Chains)."
      ],
      "metadata": {
        "id": "vN0F4C5SVGFw"
      }
    },
    {
      "cell_type": "code",
      "source": [
        "import pandas as pd\n",
        "import numpy as np\n",
        "import matplotlib.pyplot as plt\n",
        "import math\n",
        "import random\n",
        "import warnings\n",
        "warnings.filterwarnings('ignore')"
      ],
      "metadata": {
        "id": "T7DNyq8eplx1"
      },
      "execution_count": 1,
      "outputs": []
    },
    {
      "cell_type": "code",
      "source": [
        "deliveries = pd.read_csv('deliveries_updated_mens_ipl.csv')\n",
        "matches = pd.read_csv('matches_updated_mens_ipl.csv')"
      ],
      "metadata": {
        "id": "VZYChclMVUVy"
      },
      "execution_count": 19,
      "outputs": []
    },
    {
      "cell_type": "code",
      "source": [
        "df = deliveries.copy()\n",
        "df = df.rename(columns = {'matchId' : 'match_id', 'batsman_runs' : 'runs_off_bat', 'dismissal_kind': 'wicket_type'})"
      ],
      "metadata": {
        "collapsed": true,
        "id": "vo6pf-S3Oc7c"
      },
      "execution_count": 24,
      "outputs": []
    },
    {
      "cell_type": "code",
      "source": [
        "# Step 1: Feature Engineering\n",
        "df['ball_number'] = df['over'] * 6 + df['ball'] - 1\n",
        "df['is_wicket'] = df['wicket_type'].notnull().astype(int)\n",
        "df['runs_cumsum'] = df.groupby('match_id')['runs_off_bat'].cumsum()\n",
        "df['wickets_cumsum'] = df.groupby('match_id')['is_wicket'].cumsum()"
      ],
      "metadata": {
        "id": "LTiEE_jQTG0b"
      },
      "execution_count": 25,
      "outputs": []
    },
    {
      "cell_type": "code",
      "source": [
        "# Step 2: Create next state columns\n",
        "df['next_runs'] = df['runs_cumsum'].shift(-1)\n",
        "df['next_wickets'] = df['wickets_cumsum'].shift(-1)\n",
        "df['next_ball'] = df['ball_number'].shift(-1)\n",
        "df['next_match_id'] = df['match_id'].shift(-1)\n",
        "df = df[df['match_id'] == df['next_match_id']]\n",
        "df.dropna(subset=['next_runs', 'next_wickets', 'next_ball'], inplace=True)"
      ],
      "metadata": {
        "id": "rGoWY8Q0TG6v"
      },
      "execution_count": 26,
      "outputs": []
    },
    {
      "cell_type": "code",
      "source": [
        "# Step 3: Build Markov Chain transitions\n",
        "state_transitions = {}\n",
        "for _, row in df.iterrows():\n",
        "    current_state = (int(row['runs_cumsum']), int(row['wickets_cumsum']), int(row['ball_number']))\n",
        "    next_state = (int(row['next_runs']), int(row['next_wickets']), int(row['next_ball']))\n",
        "    if current_state not in state_transitions:\n",
        "        state_transitions[current_state] = []\n",
        "    state_transitions[current_state].append(next_state)\n",
        "\n",
        "# Step 4: Convert transitions to probabilities\n",
        "for state, transitions in state_transitions.items():\n",
        "    unique_transitions = list(set(transitions))\n",
        "    probabilities = [transitions.count(t) / len(transitions) for t in unique_transitions]\n",
        "    state_transitions[state] = (unique_transitions, probabilities)"
      ],
      "metadata": {
        "id": "bcRtNXTCTHAt"
      },
      "execution_count": 27,
      "outputs": []
    },
    {
      "cell_type": "code",
      "source": [
        "# Step 5: Simulation function\n",
        "def simulate_match(start_state=(0, 0, 0), max_balls=120):\n",
        "    current_state = start_state\n",
        "    match_states = [current_state]\n",
        "    while current_state[2] < max_balls and current_state[1] < 10:\n",
        "        if current_state in state_transitions:\n",
        "            next_states, probabilities = state_transitions[current_state]\n",
        "            current_state = random.choices(next_states, probabilities)[0]\n",
        "            match_states.append(current_state)\n",
        "        else:\n",
        "            break\n",
        "    return match_states"
      ],
      "metadata": {
        "id": "v1PruBqLTHHD"
      },
      "execution_count": 28,
      "outputs": []
    },
    {
      "cell_type": "code",
      "source": [
        "simulated_match = simulate_match(start_state=(0, 0, 0))\n",
        "simulated_df = pd.DataFrame(simulated_match, columns=['Runs', 'Wickets', 'Balls'])\n",
        "\n",
        "# Output: Last 10 states\n",
        "print(simulated_df.tail(10))"
      ],
      "metadata": {
        "colab": {
          "base_uri": "https://localhost:8080/"
        },
        "id": "ybtnjkLrTHN_",
        "outputId": "556e824c-f357-4a23-ced9-37e50d840081"
      },
      "execution_count": 32,
      "outputs": [
        {
          "output_type": "stream",
          "name": "stdout",
          "text": [
            "     Runs  Wickets  Balls\n",
            "115   152        5    111\n",
            "116   153        5    112\n",
            "117   153        5    113\n",
            "118   154        5    114\n",
            "119   156        5    115\n",
            "120   157        5    116\n",
            "121   163        5    117\n",
            "122   167        5    118\n",
            "123   167        5    119\n",
            "124   171        5    120\n"
          ]
        }
      ]
    },
    {
      "cell_type": "markdown",
      "source": [
        "#Enhancing the Cricket Match Simulator"
      ],
      "metadata": {
        "id": "tibTCfnWVVId"
      }
    },
    {
      "cell_type": "code",
      "source": [
        "# Modify state transitions to include venue & opponent factors\n",
        "venue_factors = {'Wankhede': 1.1, 'Chepauk': 0.9, 'Chinnaswamy': 1.2}  # Adjust run probabilities\n",
        "bowler_types = {'Pace': 1.0, 'Spin': 0.8}  # Reduce runs against spin"
      ],
      "metadata": {
        "id": "BXWsCWFxVVLV"
      },
      "execution_count": 33,
      "outputs": []
    },
    {
      "cell_type": "code",
      "source": [
        "def adjust_probabilities(state, next_states, probabilities, venue, bowler_type):\n",
        "    # Modify run probabilities based on venue\n",
        "    venue_factor = venue_factors.get(venue, 1.0)\n",
        "    bowler_factor = bowler_types.get(bowler_type, 1.0)\n",
        "\n",
        "    adjusted_probabilities = [\n",
        "        prob * venue_factor * bowler_factor for prob in probabilities\n",
        "    ]\n",
        "    # Normalize to ensure sum = 1\n",
        "    adjusted_probabilities = np.array(adjusted_probabilities) / sum(adjusted_probabilities)\n",
        "    return adjusted_probabilities"
      ],
      "metadata": {
        "id": "v362yz63VVOM"
      },
      "execution_count": 34,
      "outputs": []
    },
    {
      "cell_type": "code",
      "source": [
        "def simulate_match_with_factors(start_state=(0, 0, 0), venue='Wankhede', bowler_type='Pace'):\n",
        "    current_state = start_state\n",
        "    match_states = [current_state]\n",
        "\n",
        "\n",
        "    while current_state[2] < 120 and current_state[1] < 10:\n",
        "        if current_state in state_transitions:\n",
        "            next_states, probabilities = state_transitions[current_state]\n",
        "            probabilities = adjust_probabilities(current_state, next_states, probabilities, venue, bowler_type)\n",
        "\n",
        "            # Ensure next state's ball number doesn't exceed 120 and is unique\n",
        "            valid_next_states = [state for state in next_states\n",
        "                                 if state[2] <= 120 and state[2] > current_state[2]]\n",
        "            if valid_next_states:\n",
        "                # Adjust probabilities for valid states\n",
        "                valid_probabilities = [probabilities[next_states.index(state)] for state in valid_next_states]\n",
        "                # Normalize probabilities\n",
        "                valid_probabilities = np.array(valid_probabilities) / sum(valid_probabilities)\n",
        "\n",
        "                current_state = random.choices(valid_next_states, valid_probabilities)[0]\n",
        "                match_states.append(current_state)\n",
        "            else:\n",
        "                break  # No valid next states, end simulation\n",
        "        else:\n",
        "            break  # Current state not found in transitions, end simulation\n",
        "\n",
        "    return match_states"
      ],
      "metadata": {
        "id": "uStyMUJCVVRH"
      },
      "execution_count": 49,
      "outputs": []
    },
    {
      "cell_type": "code",
      "source": [
        "# Run enhanced simulation\n",
        "simulated_match = simulate_match_with_factors(venue='Wankhede', bowler_type='Pace')\n",
        "\n",
        "# Convert to DataFrame for visualization\n",
        "simulated_df = pd.DataFrame(simulated_match, columns=['Runs', 'Wickets', 'Balls'])"
      ],
      "metadata": {
        "id": "psBt1lRxVVUb"
      },
      "execution_count": 50,
      "outputs": []
    },
    {
      "cell_type": "markdown",
      "source": [
        "#Visualizing the Simulation Progress"
      ],
      "metadata": {
        "id": "yehumYANVVXa"
      }
    },
    {
      "cell_type": "code",
      "source": [
        "import matplotlib.pyplot as plt\n",
        "\n",
        "# Plot Runs Progression\n",
        "plt.figure(figsize=(10, 5))\n",
        "plt.plot(simulated_df['Balls'], simulated_df['Runs'], label='Runs Scored', color='blue')\n",
        "plt.xlabel('Balls')\n",
        "plt.ylabel('Runs')\n",
        "plt.title('Match Progression - Runs vs Balls')\n",
        "plt.legend()\n",
        "plt.show()\n",
        "\n",
        "# Plot Wickets Progression\n",
        "plt.figure(figsize=(10, 5))\n",
        "plt.plot(simulated_df['Balls'], simulated_df['Wickets'], label='Wickets Lost', color='red')\n",
        "plt.xlabel('Balls')\n",
        "plt.ylabel('Wickets')\n",
        "plt.title('Match Progression - Wickets vs Balls')\n",
        "plt.legend()\n",
        "plt.show()"
      ],
      "metadata": {
        "colab": {
          "base_uri": "https://localhost:8080/",
          "height": 957
        },
        "id": "D5aFaAt6VVcf",
        "outputId": "10d30ae7-331f-44dd-93fd-bd44d28dce82"
      },
      "execution_count": 51,
      "outputs": [
        {
          "output_type": "display_data",
          "data": {
            "text/plain": [
              "<Figure size 1000x500 with 1 Axes>"
            ],
            "image/png": "[encoded data removed]"
          },
          "metadata": {}
        },
        {
          "output_type": "display_data",
          "data": {
            "text/plain": [
              "<Figure size 1000x500 with 1 Axes>"
            ],
            "image/png": "[encoded data removed]"
          },
          "metadata": {}
        }
      ]
    },
    {
      "cell_type": "code",
      "source": [
        "pip install gradio"
      ],
      "metadata": {
        "colab": {
          "base_uri": "https://localhost:8080/"
        },
        "collapsed": true,
        "id": "uMlmFqP0VVl8",
        "outputId": "7824ce3e-5779-4083-e1d2-93d6ac107283"
      },
      "execution_count": null,
      "outputs": [
        {
          "output_type": "stream",
          "name": "stdout",
          "text": [
            "Requirement already satisfied: gradio in /usr/local/lib/python3.11/dist-packages (5.23.3)\n",
            "Requirement already satisfied: aiofiles<24.0,>=22.0 in /usr/local/lib/python3.11/dist-packages (from gradio) (23.2.1)\n",
            "Requirement already satisfied: anyio<5.0,>=3.0 in /usr/local/lib/python3.11/dist-packages (from gradio) (4.9.0)\n",
            "Requirement already satisfied: fastapi<1.0,>=0.115.2 in /usr/local/lib/python3.11/dist-packages (from gradio) (0.115.12)\n",
            "Requirement already satisfied: ffmpy in /usr/local/lib/python3.11/dist-packages (from gradio) (0.5.0)\n",
            "Requirement already satisfied: gradio-client==1.8.0 in /usr/local/lib/python3.11/dist-packages (from gradio) (1.8.0)\n",
            "Requirement already satisfied: groovy~=0.1 in /usr/local/lib/python3.11/dist-packages (from gradio) (0.1.2)\n",
            "Requirement already satisfied: httpx>=0.24.1 in /usr/local/lib/python3.11/dist-packages (from gradio) (0.28.1)\n",
            "Requirement already satisfied: huggingface-hub>=0.28.1 in /usr/local/lib/python3.11/dist-packages (from gradio) (0.30.1)\n",
            "Requirement already satisfied: jinja2<4.0 in /usr/local/lib/python3.11/dist-packages (from gradio) (3.1.6)\n",
            "Requirement already satisfied: markupsafe<4.0,>=2.0 in /usr/local/lib/python3.11/dist-packages (from gradio) (3.0.2)\n",
            "Requirement already satisfied: numpy<3.0,>=1.0 in /usr/local/lib/python3.11/dist-packages (from gradio) (2.0.2)\n",
            "Requirement already satisfied: orjson~=3.0 in /usr/local/lib/python3.11/dist-packages (from gradio) (3.10.16)\n",
            "Requirement already satisfied: packaging in /usr/local/lib/python3.11/dist-packages (from gradio) (24.2)\n",
            "Requirement already satisfied: pandas<3.0,>=1.0 in /usr/local/lib/python3.11/dist-packages (from gradio) (2.2.2)\n",
            "Requirement already satisfied: pillow<12.0,>=8.0 in /usr/local/lib/python3.11/dist-packages (from gradio) (11.1.0)\n",
            "Requirement already satisfied: pydantic<2.12,>=2.0 in /usr/local/lib/python3.11/dist-packages (from gradio) (2.11.2)\n",
            "Requirement already satisfied: pydub in /usr/local/lib/python3.11/dist-packages (from gradio) (0.25.1)\n",
            "Requirement already satisfied: python-multipart>=0.0.18 in /usr/local/lib/python3.11/dist-packages (from gradio) (0.0.20)\n",
            "Requirement already satisfied: pyyaml<7.0,>=5.0 in /usr/local/lib/python3.11/dist-packages (from gradio) (6.0.2)\n",
            "Requirement already satisfied: ruff>=0.9.3 in /usr/local/lib/python3.11/dist-packages (from gradio) (0.11.4)\n",
            "Requirement already satisfied: safehttpx<0.2.0,>=0.1.6 in /usr/local/lib/python3.11/dist-packages (from gradio) (0.1.6)\n",
            "Requirement already satisfied: semantic-version~=2.0 in /usr/local/lib/python3.11/dist-packages (from gradio) (2.10.0)\n",
            "Requirement already satisfied: starlette<1.0,>=0.40.0 in /usr/local/lib/python3.11/dist-packages (from gradio) (0.46.1)\n",
            "Requirement already satisfied: tomlkit<0.14.0,>=0.12.0 in /usr/local/lib/python3.11/dist-packages (from gradio) (0.13.2)\n",
            "Requirement already satisfied: typer<1.0,>=0.12 in /usr/local/lib/python3.11/dist-packages (from gradio) (0.15.2)\n",
            "Requirement already satisfied: typing-extensions~=4.0 in /usr/local/lib/python3.11/dist-packages (from gradio) (4.13.1)\n",
            "Requirement already satisfied: uvicorn>=0.14.0 in /usr/local/lib/python3.11/dist-packages (from gradio) (0.34.0)\n",
            "Requirement already satisfied: fsspec in /usr/local/lib/python3.11/dist-packages (from gradio-client==1.8.0->gradio) (2025.3.2)\n",
            "Requirement already satisfied: websockets<16.0,>=10.0 in /usr/local/lib/python3.11/dist-packages (from gradio-client==1.8.0->gradio) (15.0.1)\n",
            "Requirement already satisfied: idna>=2.8 in /usr/local/lib/python3.11/dist-packages (from anyio<5.0,>=3.0->gradio) (3.10)\n",
            "Requirement already satisfied: sniffio>=1.1 in /usr/local/lib/python3.11/dist-packages (from anyio<5.0,>=3.0->gradio) (1.3.1)\n",
            "Requirement already satisfied: certifi in /usr/local/lib/python3.11/dist-packages (from httpx>=0.24.1->gradio) (2025.1.31)\n",
            "Requirement already satisfied: httpcore==1.* in /usr/local/lib/python3.11/dist-packages (from httpx>=0.24.1->gradio) (1.0.7)\n",
            "Requirement already satisfied: h11<0.15,>=0.13 in /usr/local/lib/python3.11/dist-packages (from httpcore==1.*->httpx>=0.24.1->gradio) (0.14.0)\n",
            "Requirement already satisfied: filelock in /usr/local/lib/python3.11/dist-packages (from huggingface-hub>=0.28.1->gradio) (3.18.0)\n",
            "Requirement already satisfied: requests in /usr/local/lib/python3.11/dist-packages (from huggingface-hub>=0.28.1->gradio) (2.32.3)\n",
            "Requirement already satisfied: tqdm>=4.42.1 in /usr/local/lib/python3.11/dist-packages (from huggingface-hub>=0.28.1->gradio) (4.67.1)\n",
            "Requirement already satisfied: python-dateutil>=2.8.2 in /usr/local/lib/python3.11/dist-packages (from pandas<3.0,>=1.0->gradio) (2.8.2)\n",
            "Requirement already satisfied: pytz>=2020.1 in /usr/local/lib/python3.11/dist-packages (from pandas<3.0,>=1.0->gradio) (2025.2)\n",
            "Requirement already satisfied: tzdata>=2022.7 in /usr/local/lib/python3.11/dist-packages (from pandas<3.0,>=1.0->gradio) (2025.2)\n",
            "Requirement already satisfied: annotated-types>=0.6.0 in /usr/local/lib/python3.11/dist-packages (from pydantic<2.12,>=2.0->gradio) (0.7.0)\n",
            "Requirement already satisfied: pydantic-core==2.33.1 in /usr/local/lib/python3.11/dist-packages (from pydantic<2.12,>=2.0->gradio) (2.33.1)\n",
            "Requirement already satisfied: typing-inspection>=0.4.0 in /usr/local/lib/python3.11/dist-packages (from pydantic<2.12,>=2.0->gradio) (0.4.0)\n",
            "Requirement already satisfied: click>=8.0.0 in /usr/local/lib/python3.11/dist-packages (from typer<1.0,>=0.12->gradio) (8.1.8)\n",
            "Requirement already satisfied: shellingham>=1.3.0 in /usr/local/lib/python3.11/dist-packages (from typer<1.0,>=0.12->gradio) (1.5.4)\n",
            "Requirement already satisfied: rich>=10.11.0 in /usr/local/lib/python3.11/dist-packages (from typer<1.0,>=0.12->gradio) (13.9.4)\n",
            "Requirement already satisfied: six>=1.5 in /usr/local/lib/python3.11/dist-packages (from python-dateutil>=2.8.2->pandas<3.0,>=1.0->gradio) (1.17.0)\n",
            "Requirement already satisfied: markdown-it-py>=2.2.0 in /usr/local/lib/python3.11/dist-packages (from rich>=10.11.0->typer<1.0,>=0.12->gradio) (3.0.0)\n",
            "Requirement already satisfied: pygments<3.0.0,>=2.13.0 in /usr/local/lib/python3.11/dist-packages (from rich>=10.11.0->typer<1.0,>=0.12->gradio) (2.18.0)\n",
            "Requirement already satisfied: charset-normalizer<4,>=2 in /usr/local/lib/python3.11/dist-packages (from requests->huggingface-hub>=0.28.1->gradio) (3.4.1)\n",
            "Requirement already satisfied: urllib3<3,>=1.21.1 in /usr/local/lib/python3.11/dist-packages (from requests->huggingface-hub>=0.28.1->gradio) (2.3.0)\n",
            "Requirement already satisfied: mdurl~=0.1 in /usr/local/lib/python3.11/dist-packages (from markdown-it-py>=2.2.0->rich>=10.11.0->typer<1.0,>=0.12->gradio) (0.1.2)\n"
          ]
        }
      ]
    },
    {
      "source": [
        "import ipywidgets as widgets\n",
        "from IPython.display import display\n",
        "import matplotlib.pyplot as plt\n",
        "\n",
        "venue_widget = widgets.Dropdown(options=['Wankhede', 'Chepauk', 'Chinnaswamy'], description='Venue:')\n",
        "bowler_widget = widgets.RadioButtons(options=['Pace', 'Spin'], description='Bowler:')\n",
        "button = widgets.Button(description=\"Simulate\")\n",
        "\n",
        "output = widgets.Output()\n",
        "\n",
        "def on_button_clicked(b):\n",
        "    with output:\n",
        "        output.clear_output(wait=True)\n",
        "        match = simulate_match_with_factors(venue=venue_widget.value, bowler_type=bowler_widget.value)\n",
        "        df = pd.DataFrame(match, columns=[\"Runs\", \"Wickets\", \"Balls\"])\n",
        "        df = df[df['Balls'] <= 120]  # Add this line for filtering\n",
        "        df.sort_values(by=['Balls'], inplace=True)\n",
        "        df['Ball Number'] = df.index\n",
        "           # Plot Runs and Wickets\n",
        "        fig, axes = plt.subplots(1, 2, figsize=(14, 5))\n",
        "\n",
        "        # Runs vs Balls\n",
        "        axes[0].plot(df['Balls'], df['Runs'], color='blue')\n",
        "        axes[0].set_title('Runs vs Balls')\n",
        "        axes[0].set_xlabel('Balls')\n",
        "        axes[0].set_ylabel('Runs')\n",
        "\n",
        "        # Wickets vs Balls\n",
        "        axes[1].plot(df['Balls'], df['Wickets'], color='red')\n",
        "        axes[1].set_title('Wickets vs Balls')\n",
        "        axes[1].set_xlabel('Balls')\n",
        "        axes[1].set_ylabel('Wickets')\n",
        "\n",
        "        plt.tight_layout()\n",
        "        plt.show()\n",
        "\n",
        "button.on_click(on_button_clicked)\n",
        "\n",
        "display(venue_widget, bowler_widget, button, output)"
      ],
      "cell_type": "code",
      "metadata": {
        "colab": {
          "base_uri": "https://localhost:8080/",
          "height": 551,
          "referenced_widgets": [
            "56e63c3cf73d42a494e65ebf687cd6f2",
            "d2805f88b25e44e8b745a7a8ac97b559",
            "e52b51d00acd4cbdb57fba75200fe59e",
            "c6600161b21749f4a01baf218d2ecc07",
            "9cc2413941eb4b91a20d193951e20828",
            "cff62f259bf24a3ab72330d3d94e7b9c",
            "e316a1afc6994c118595c67c41ea5479",
            "d101fd3733b94439b036dc3c7af793e8",
            "78bc2df696e54a54aae250db3d09dbfe",
            "36b60495d3784e74ab3540790aa2f036",
            "c7abc8f786e745b181a7cdf80434a75a"
          ]
        },
        "id": "fQB6fK-xaNDt",
        "outputId": "a487abac-7e0a-4dad-def1-7bb4fc81e5c2"
      },
      "execution_count": 52,
      "outputs": [
        {
          "output_type": "display_data",
          "data": {
            "text/plain": [
              "Dropdown(description='Venue:', options=('Wankhede', 'Chepauk', 'Chinnaswamy'), value='Wankhede')"
            ],
            "application/vnd.jupyter.widget-view+json": {
              "version_major": 2,
              "version_minor": 0,
              "model_id": "56e63c3cf73d42a494e65ebf687cd6f2"
            }
          },
          "metadata": {}
        },
        {
          "output_type": "display_data",
          "data": {
            "text/plain": [
              "RadioButtons(description='Bowler:', options=('Pace', 'Spin'), value='Pace')"
            ],
            "application/vnd.jupyter.widget-view+json": {
              "version_major": 2,
              "version_minor": 0,
              "model_id": "c6600161b21749f4a01baf218d2ecc07"
            }
          },
          "metadata": {}
        },
        {
          "output_type": "display_data",
          "data": {
            "text/plain": [
              "Button(description='Simulate', style=ButtonStyle())"
            ],
            "application/vnd.jupyter.widget-view+json": {
              "version_major": 2,
              "version_minor": 0,
              "model_id": "e316a1afc6994c118595c67c41ea5479"
            }
          },
          "metadata": {}
        },
        {
          "output_type": "display_data",
          "data": {
            "text/plain": [
              "Output()"
            ],
            "application/vnd.jupyter.widget-view+json": {
              "version_major": 2,
              "version_minor": 0,
              "model_id": "36b60495d3784e74ab3540790aa2f036"
            }
          },
          "metadata": {}
        }
      ]
    },
    {
      "cell_type": "markdown",
      "source": [
        "#Add Match Phases: Powerplay, Middle, Death Overs"
      ],
      "metadata": {
        "id": "1CRMYFs1VVtA"
      }
    },
    {
      "cell_type": "code",
      "source": [
        "def get_phase(ball_number):\n",
        "    over = ball_number // 6\n",
        "    if over < 6:\n",
        "        return 'Powerplay'\n",
        "    elif over < 16:\n",
        "        return 'Middle'\n",
        "    else:\n",
        "        return 'Death'\n",
        "\n",
        "phase_factors = {\n",
        "    'Powerplay': 1.1,\n",
        "    'Middle': 1.0,\n",
        "    'Death': 1.3\n",
        "}\n",
        "\n",
        "def adjust_probabilities_with_phase(state, next_states, probabilities, venue, bowler_type):\n",
        "    venue_factor = venue_factors.get(venue, 1.0)\n",
        "    bowler_factor = bowler_types.get(bowler_type, 1.0)\n",
        "    phase = get_phase(state[2])\n",
        "    phase_factor = phase_factors.get(phase, 1.0)\n",
        "\n",
        "    adjusted_probabilities = [\n",
        "        prob * venue_factor * bowler_factor * phase_factor for prob in probabilities\n",
        "    ]\n",
        "    adjusted_probabilities = np.array(adjusted_probabilities) / sum(adjusted_probabilities)\n",
        "    return adjusted_probabilities"
      ],
      "metadata": {
        "id": "cjjRFYPyVVvJ"
      },
      "execution_count": 53,
      "outputs": []
    },
    {
      "cell_type": "code",
      "source": [
        "#Dynamic Bowling Changes + Strategy AI\n",
        "\n",
        "def get_bowler_type(over):\n",
        "    if over < 6 or over > 16:\n",
        "        return 'Pace'\n",
        "    else:\n",
        "        return 'Spin'"
      ],
      "metadata": {
        "id": "SWNKtNzHVVxi"
      },
      "execution_count": 54,
      "outputs": []
    },
    {
      "cell_type": "code",
      "source": [
        "# Display Match Summary\n",
        "final_state = simulated_df.iloc[-1]\n",
        "total_runs = final_state['Runs']\n",
        "total_wickets = final_state['Wickets']\n",
        "total_overs = final_state['Balls'] // 6 + (final_state['Balls'] % 6) / 10\n",
        "\n",
        "print(f\"Match Summary:\")\n",
        "print(f\"Total: {total_runs}/{total_wickets} in {total_overs:.1f} overs\")\n",
        "print(f\"Run Rate: {total_runs / (final_state['Balls'] / 6):.2f}\")"
      ],
      "metadata": {
        "colab": {
          "base_uri": "https://localhost:8080/"
        },
        "id": "KnoVm2OqVV0j",
        "outputId": "e98e6df6-a618-4fbd-e841-5bc680b66e79"
      },
      "execution_count": 307,
      "outputs": [
        {
          "output_type": "stream",
          "name": "stdout",
          "text": [
            "Match Summary:\n",
            "Total: 142/3 in 16.0 overs\n",
            "Run Rate: 8.88\n"
          ]
        }
      ]
    },
    {
      "cell_type": "code",
      "source": [
        "#Save Results & Visualize\n",
        "simulated_df.to_csv('simulated_match_output.csv', index=False)"
      ],
      "metadata": {
        "id": "1fS0_ZFtVV3K"
      },
      "execution_count": 56,
      "outputs": []
    },
    {
      "cell_type": "code",
      "source": [
        "pip install seaborn plotly"
      ],
      "metadata": {
        "colab": {
          "base_uri": "https://localhost:8080/"
        },
        "collapsed": true,
        "id": "8cuD1ywHVWAF",
        "outputId": "269bbf47-8203-4882-fbe0-fcb74df01dd3"
      },
      "execution_count": 57,
      "outputs": [
        {
          "output_type": "stream",
          "name": "stdout",
          "text": [
            "Requirement already satisfied: seaborn in /usr/local/lib/python3.11/dist-packages (0.13.2)\n",
            "Requirement already satisfied: plotly in /usr/local/lib/python3.11/dist-packages (5.24.1)\n",
            "Requirement already satisfied: numpy!=1.24.0,>=1.20 in /usr/local/lib/python3.11/dist-packages (from seaborn) (2.0.2)\n",
            "Requirement already satisfied: pandas>=1.2 in /usr/local/lib/python3.11/dist-packages (from seaborn) (2.2.2)\n",
            "Requirement already satisfied: matplotlib!=3.6.1,>=3.4 in /usr/local/lib/python3.11/dist-packages (from seaborn) (3.10.0)\n",
            "Requirement already satisfied: tenacity>=6.2.0 in /usr/local/lib/python3.11/dist-packages (from plotly) (9.1.2)\n",
            "Requirement already satisfied: packaging in /usr/local/lib/python3.11/dist-packages (from plotly) (24.2)\n",
            "Requirement already satisfied: contourpy>=1.0.1 in /usr/local/lib/python3.11/dist-packages (from matplotlib!=3.6.1,>=3.4->seaborn) (1.3.1)\n",
            "Requirement already satisfied: cycler>=0.10 in /usr/local/lib/python3.11/dist-packages (from matplotlib!=3.6.1,>=3.4->seaborn) (0.12.1)\n",
            "Requirement already satisfied: fonttools>=4.22.0 in /usr/local/lib/python3.11/dist-packages (from matplotlib!=3.6.1,>=3.4->seaborn) (4.57.0)\n",
            "Requirement already satisfied: kiwisolver>=1.3.1 in /usr/local/lib/python3.11/dist-packages (from matplotlib!=3.6.1,>=3.4->seaborn) (1.4.8)\n",
            "Requirement already satisfied: pillow>=8 in /usr/local/lib/python3.11/dist-packages (from matplotlib!=3.6.1,>=3.4->seaborn) (11.1.0)\n",
            "Requirement already satisfied: pyparsing>=2.3.1 in /usr/local/lib/python3.11/dist-packages (from matplotlib!=3.6.1,>=3.4->seaborn) (3.2.3)\n",
            "Requirement already satisfied: python-dateutil>=2.7 in /usr/local/lib/python3.11/dist-packages (from matplotlib!=3.6.1,>=3.4->seaborn) (2.8.2)\n",
            "Requirement already satisfied: pytz>=2020.1 in /usr/local/lib/python3.11/dist-packages (from pandas>=1.2->seaborn) (2025.2)\n",
            "Requirement already satisfied: tzdata>=2022.7 in /usr/local/lib/python3.11/dist-packages (from pandas>=1.2->seaborn) (2025.2)\n",
            "Requirement already satisfied: six>=1.5 in /usr/local/lib/python3.11/dist-packages (from python-dateutil>=2.7->matplotlib!=3.6.1,>=3.4->seaborn) (1.17.0)\n"
          ]
        }
      ]
    },
    {
      "cell_type": "code",
      "source": [
        "import plotly.express as px\n",
        "\n",
        "# Runs Progression\n",
        "fig_runs = px.line(simulated_df, x='Balls', y='Runs',\n",
        "                   title='Interactive Runs Progression',\n",
        "                   labels={'Balls': 'Ball Number', 'Runs': 'Total Runs'},\n",
        "                   template='plotly_dark')\n",
        "fig_runs.show()\n",
        "\n",
        "# Wickets Progression\n",
        "fig_wickets = px.line(simulated_df, x='Balls', y='Wickets',\n",
        "                      title='Interactive Wickets Progression',\n",
        "                      labels={'Balls': 'Ball Number', 'Wickets': 'Total Wickets'},\n",
        "                      template='plotly_dark')\n",
        "fig_wickets.show()"
      ],
      "metadata": {
        "colab": {
          "base_uri": "https://localhost:8080/",
          "height": 1000
        },
        "id": "t61Fk2u79K0Q",
        "outputId": "02dedf95-d44a-467f-c3b1-e77bb99e6a0a"
      },
      "execution_count": 58,
      "outputs": [
        {
          "output_type": "display_data",
          "data": {
            "text/html": [
              "<html>\n",
              "<head><meta charset=\"utf-8\" /></head>\n",
              "<body>\n",
              "    <div>            <script src=\"https://cdnjs.cloudflare.com/ajax/libs/mathjax/2.7.5/MathJax.js?config=TeX-AMS-MML_SVG\"></script><script type=\"text/javascript\">if (window.MathJax && window.MathJax.Hub && window.MathJax.Hub.Config) {window.MathJax.Hub.Config({SVG: {font: \"STIX-Web\"}});}</script>                <script type=\"text/javascript\">window.PlotlyConfig = {MathJaxConfig: 'local'};</script>\n",
              "        <script charset=\"utf-8\" src=\"https://cdn.plot.ly/plotly-2.35.2.min.js\"></script>                <div id=\"e507b83e-7aa9-40f3-8647-4f767c79f8f5\" class=\"plotly-graph-div\" style=\"height:525px; width:100%;\"></div>            <script type=\"text/javascript\">                                    window.PLOTLYENV=window.PLOTLYENV || {};                                    if (document.getElementById(\"e507b83e-7aa9-40f3-8647-4f767c79f8f5\")) {                    Plotly.newPlot(                        \"e507b83e-7aa9-40f3-8647-4f767c79f8f5\",                        [{\"hovertemplate\":\"Ball Number=%{x}\\u003cbr\\u003eTotal Runs=%{y}\\u003cextra\\u003e\\u003c\\u002fextra\\u003e\",\"legendgroup\":\"\",\"line\":{\"color\":\"#636efa\",\"dash\":\"solid\"},\"marker\":{\"symbol\":\"circle\"},\"mode\":\"lines\",\"name\":\"\",\"orientation\":\"v\",\"showlegend\":false,\"x\":[0,1,2,3,4,5,6,7,8,9,10,11,12,13,14,15,16,17,18,19,20,21,22,23,24,25,26,27,28,29,30,31,32,33,34,35,36,37,38,39,40,41,42,43,44,45,46,47,48,49,50,51,52,53,54,55,56,57,58,59,60,61,62,63,64,65,66,67,68,69,70,71,72,73,74,75,76,77,78,79,80,81,82,83,84,85,86,87,88,89,90,91,92,93,94,95,96],\"xaxis\":\"x\",\"y\":[0,0,1,1,1,1,1,7,7,7,11,15,15,15,15,16,17,20,20,20,24,25,25,25,26,26,27,31,32,32,32,32,32,32,32,38,38,38,42,46,46,47,48,52,52,52,53,59,59,60,60,61,61,62,63,64,64,66,72,78,79,80,82,82,82,82,86,88,89,93,94,95,99,101,102,103,109,111,113,114,120,120,120,121,122,123,123,127,127,128,128,132,133,136,137,141,142],\"yaxis\":\"y\",\"type\":\"scatter\"}],                        {\"template\":{\"data\":{\"barpolar\":[{\"marker\":{\"line\":{\"color\":\"rgb(17,17,17)\",\"width\":0.5},\"pattern\":{\"fillmode\":\"overlay\",\"size\":10,\"solidity\":0.2}},\"type\":\"barpolar\"}],\"bar\":[{\"error_x\":{\"color\":\"#f2f5fa\"},\"error_y\":{\"color\":\"#f2f5fa\"},\"marker\":{\"line\":{\"color\":\"rgb(17,17,17)\",\"width\":0.5},\"pattern\":{\"fillmode\":\"overlay\",\"size\":10,\"solidity\":0.2}},\"type\":\"bar\"}],\"carpet\":[{\"aaxis\":{\"endlinecolor\":\"#A2B1C6\",\"gridcolor\":\"#506784\",\"linecolor\":\"#506784\",\"minorgridcolor\":\"#506784\",\"startlinecolor\":\"#A2B1C6\"},\"baxis\":{\"endlinecolor\":\"#A2B1C6\",\"gridcolor\":\"#506784\",\"linecolor\":\"#506784\",\"minorgridcolor\":\"#506784\",\"startlinecolor\":\"#A2B1C6\"},\"type\":\"carpet\"}],\"choropleth\":[{\"colorbar\":{\"outlinewidth\":0,\"ticks\":\"\"},\"type\":\"choropleth\"}],\"contourcarpet\":[{\"colorbar\":{\"outlinewidth\":0,\"ticks\":\"\"},\"type\":\"contourcarpet\"}],\"contour\":[{\"colorbar\":{\"outlinewidth\":0,\"ticks\":\"\"},\"colorscale\":[[0.0,\"#0d0887\"],[0.1111111111111111,\"#46039f\"],[0.2222222222222222,\"#7201a8\"],[0.3333333333333333,\"#9c179e\"],[0.4444444444444444,\"#bd3786\"],[0.5555555555555556,\"#d8576b\"],[0.6666666666666666,\"#ed7953\"],[0.7777777777777778,\"#fb9f3a\"],[0.8888888888888888,\"#fdca26\"],[1.0,\"#f0f921\"]],\"type\":\"contour\"}],\"heatmapgl\":[{\"colorbar\":{\"outlinewidth\":0,\"ticks\":\"\"},\"colorscale\":[[0.0,\"#0d0887\"],[0.1111111111111111,\"#46039f\"],[0.2222222222222222,\"#7201a8\"],[0.3333333333333333,\"#9c179e\"],[0.4444444444444444,\"#bd3786\"],[0.5555555555555556,\"#d8576b\"],[0.6666666666666666,\"#ed7953\"],[0.7777777777777778,\"#fb9f3a\"],[0.8888888888888888,\"#fdca26\"],[1.0,\"#f0f921\"]],\"type\":\"heatmapgl\"}],\"heatmap\":[{\"colorbar\":{\"outlinewidth\":0,\"ticks\":\"\"},\"colorscale\":[[0.0,\"#0d0887\"],[0.1111111111111111,\"#46039f\"],[0.2222222222222222,\"#7201a8\"],[0.3333333333333333,\"#9c179e\"],[0.4444444444444444,\"#bd3786\"],[0.5555555555555556,\"#d8576b\"],[0.6666666666666666,\"#ed7953\"],[0.7777777777777778,\"#fb9f3a\"],[0.8888888888888888,\"#fdca26\"],[1.0,\"#f0f921\"]],\"type\":\"heatmap\"}],\"histogram2dcontour\":[{\"colorbar\":{\"outlinewidth\":0,\"ticks\":\"\"},\"colorscale\":[[0.0,\"#0d0887\"],[0.1111111111111111,\"#46039f\"],[0.2222222222222222,\"#7201a8\"],[0.3333333333333333,\"#9c179e\"],[0.4444444444444444,\"#bd3786\"],[0.5555555555555556,\"#d8576b\"],[0.6666666666666666,\"#ed7953\"],[0.7777777777777778,\"#fb9f3a\"],[0.8888888888888888,\"#fdca26\"],[1.0,\"#f0f921\"]],\"type\":\"histogram2dcontour\"}],\"histogram2d\":[{\"colorbar\":{\"outlinewidth\":0,\"ticks\":\"\"},\"colorscale\":[[0.0,\"#0d0887\"],[0.1111111111111111,\"#46039f\"],[0.2222222222222222,\"#7201a8\"],[0.3333333333333333,\"#9c179e\"],[0.4444444444444444,\"#bd3786\"],[0.5555555555555556,\"#d8576b\"],[0.6666666666666666,\"#ed7953\"],[0.7777777777777778,\"#fb9f3a\"],[0.8888888888888888,\"#fdca26\"],[1.0,\"#f0f921\"]],\"type\":\"histogram2d\"}],\"histogram\":[{\"marker\":{\"pattern\":{\"fillmode\":\"overlay\",\"size\":10,\"solidity\":0.2}},\"type\":\"histogram\"}],\"mesh3d\":[{\"colorbar\":{\"outlinewidth\":0,\"ticks\":\"\"},\"type\":\"mesh3d\"}],\"parcoords\":[{\"line\":{\"colorbar\":{\"outlinewidth\":0,\"ticks\":\"\"}},\"type\":\"parcoords\"}],\"pie\":[{\"automargin\":true,\"type\":\"pie\"}],\"scatter3d\":[{\"line\":{\"colorbar\":{\"outlinewidth\":0,\"ticks\":\"\"}},\"marker\":{\"colorbar\":{\"outlinewidth\":0,\"ticks\":\"\"}},\"type\":\"scatter3d\"}],\"scattercarpet\":[{\"marker\":{\"colorbar\":{\"outlinewidth\":0,\"ticks\":\"\"}},\"type\":\"scattercarpet\"}],\"scattergeo\":[{\"marker\":{\"colorbar\":{\"outlinewidth\":0,\"ticks\":\"\"}},\"type\":\"scattergeo\"}],\"scattergl\":[{\"marker\":{\"line\":{\"color\":\"#283442\"}},\"type\":\"scattergl\"}],\"scattermapbox\":[{\"marker\":{\"colorbar\":{\"outlinewidth\":0,\"ticks\":\"\"}},\"type\":\"scattermapbox\"}],\"scatterpolargl\":[{\"marker\":{\"colorbar\":{\"outlinewidth\":0,\"ticks\":\"\"}},\"type\":\"scatterpolargl\"}],\"scatterpolar\":[{\"marker\":{\"colorbar\":{\"outlinewidth\":0,\"ticks\":\"\"}},\"type\":\"scatterpolar\"}],\"scatter\":[{\"marker\":{\"line\":{\"color\":\"#283442\"}},\"type\":\"scatter\"}],\"scatterternary\":[{\"marker\":{\"colorbar\":{\"outlinewidth\":0,\"ticks\":\"\"}},\"type\":\"scatterternary\"}],\"surface\":[{\"colorbar\":{\"outlinewidth\":0,\"ticks\":\"\"},\"colorscale\":[[0.0,\"#0d0887\"],[0.1111111111111111,\"#46039f\"],[0.2222222222222222,\"#7201a8\"],[0.3333333333333333,\"#9c179e\"],[0.4444444444444444,\"#bd3786\"],[0.5555555555555556,\"#d8576b\"],[0.6666666666666666,\"#ed7953\"],[0.7777777777777778,\"#fb9f3a\"],[0.8888888888888888,\"#fdca26\"],[1.0,\"#f0f921\"]],\"type\":\"surface\"}],\"table\":[{\"cells\":{\"fill\":{\"color\":\"#506784\"},\"line\":{\"color\":\"rgb(17,17,17)\"}},\"header\":{\"fill\":{\"color\":\"#2a3f5f\"},\"line\":{\"color\":\"rgb(17,17,17)\"}},\"type\":\"table\"}]},\"layout\":{\"annotationdefaults\":{\"arrowcolor\":\"#f2f5fa\",\"arrowhead\":0,\"arrowwidth\":1},\"autotypenumbers\":\"strict\",\"coloraxis\":{\"colorbar\":{\"outlinewidth\":0,\"ticks\":\"\"}},\"colorscale\":{\"diverging\":[[0,\"#8e0152\"],[0.1,\"#c51b7d\"],[0.2,\"#de77ae\"],[0.3,\"#f1b6da\"],[0.4,\"#fde0ef\"],[0.5,\"#f7f7f7\"],[0.6,\"#e6f5d0\"],[0.7,\"#b8e186\"],[0.8,\"#7fbc41\"],[0.9,\"#4d9221\"],[1,\"#276419\"]],\"sequential\":[[0.0,\"#0d0887\"],[0.1111111111111111,\"#46039f\"],[0.2222222222222222,\"#7201a8\"],[0.3333333333333333,\"#9c179e\"],[0.4444444444444444,\"#bd3786\"],[0.5555555555555556,\"#d8576b\"],[0.6666666666666666,\"#ed7953\"],[0.7777777777777778,\"#fb9f3a\"],[0.8888888888888888,\"#fdca26\"],[1.0,\"#f0f921\"]],\"sequentialminus\":[[0.0,\"#0d0887\"],[0.1111111111111111,\"#46039f\"],[0.2222222222222222,\"#7201a8\"],[0.3333333333333333,\"#9c179e\"],[0.4444444444444444,\"#bd3786\"],[0.5555555555555556,\"#d8576b\"],[0.6666666666666666,\"#ed7953\"],[0.7777777777777778,\"#fb9f3a\"],[0.8888888888888888,\"#fdca26\"],[1.0,\"#f0f921\"]]},\"colorway\":[\"#636efa\",\"#EF553B\",\"#00cc96\",\"#ab63fa\",\"#FFA15A\",\"#19d3f3\",\"#FF6692\",\"#B6E880\",\"#FF97FF\",\"#FECB52\"],\"font\":{\"color\":\"#f2f5fa\"},\"geo\":{\"bgcolor\":\"rgb(17,17,17)\",\"lakecolor\":\"rgb(17,17,17)\",\"landcolor\":\"rgb(17,17,17)\",\"showlakes\":true,\"showland\":true,\"subunitcolor\":\"#506784\"},\"hoverlabel\":{\"align\":\"left\"},\"hovermode\":\"closest\",\"mapbox\":{\"style\":\"dark\"},\"paper_bgcolor\":\"rgb(17,17,17)\",\"plot_bgcolor\":\"rgb(17,17,17)\",\"polar\":{\"angularaxis\":{\"gridcolor\":\"#506784\",\"linecolor\":\"#506784\",\"ticks\":\"\"},\"bgcolor\":\"rgb(17,17,17)\",\"radialaxis\":{\"gridcolor\":\"#506784\",\"linecolor\":\"#506784\",\"ticks\":\"\"}},\"scene\":{\"xaxis\":{\"backgroundcolor\":\"rgb(17,17,17)\",\"gridcolor\":\"#506784\",\"gridwidth\":2,\"linecolor\":\"#506784\",\"showbackground\":true,\"ticks\":\"\",\"zerolinecolor\":\"#C8D4E3\"},\"yaxis\":{\"backgroundcolor\":\"rgb(17,17,17)\",\"gridcolor\":\"#506784\",\"gridwidth\":2,\"linecolor\":\"#506784\",\"showbackground\":true,\"ticks\":\"\",\"zerolinecolor\":\"#C8D4E3\"},\"zaxis\":{\"backgroundcolor\":\"rgb(17,17,17)\",\"gridcolor\":\"#506784\",\"gridwidth\":2,\"linecolor\":\"#506784\",\"showbackground\":true,\"ticks\":\"\",\"zerolinecolor\":\"#C8D4E3\"}},\"shapedefaults\":{\"line\":{\"color\":\"#f2f5fa\"}},\"sliderdefaults\":{\"bgcolor\":\"#C8D4E3\",\"bordercolor\":\"rgb(17,17,17)\",\"borderwidth\":1,\"tickwidth\":0},\"ternary\":{\"aaxis\":{\"gridcolor\":\"#506784\",\"linecolor\":\"#506784\",\"ticks\":\"\"},\"baxis\":{\"gridcolor\":\"#506784\",\"linecolor\":\"#506784\",\"ticks\":\"\"},\"bgcolor\":\"rgb(17,17,17)\",\"caxis\":{\"gridcolor\":\"#506784\",\"linecolor\":\"#506784\",\"ticks\":\"\"}},\"title\":{\"x\":0.05},\"updatemenudefaults\":{\"bgcolor\":\"#506784\",\"borderwidth\":0},\"xaxis\":{\"automargin\":true,\"gridcolor\":\"#283442\",\"linecolor\":\"#506784\",\"ticks\":\"\",\"title\":{\"standoff\":15},\"zerolinecolor\":\"#283442\",\"zerolinewidth\":2},\"yaxis\":{\"automargin\":true,\"gridcolor\":\"#283442\",\"linecolor\":\"#506784\",\"ticks\":\"\",\"title\":{\"standoff\":15},\"zerolinecolor\":\"#283442\",\"zerolinewidth\":2}}},\"xaxis\":{\"anchor\":\"y\",\"domain\":[0.0,1.0],\"title\":{\"text\":\"Ball Number\"}},\"yaxis\":{\"anchor\":\"x\",\"domain\":[0.0,1.0],\"title\":{\"text\":\"Total Runs\"}},\"legend\":{\"tracegroupgap\":0},\"title\":{\"text\":\"Interactive Runs Progression\"}},                        {\"responsive\": true}                    ).then(function(){\n",
              "                            \n",
              "var gd = document.getElementById('e507b83e-7aa9-40f3-8647-4f767c79f8f5');\n",
              "var x = new MutationObserver(function (mutations, observer) {{\n",
              "        var display = window.getComputedStyle(gd).display;\n",
              "        if (!display || display === 'none') {{\n",
              "            console.log([gd, 'removed!']);\n",
              "            Plotly.purge(gd);\n",
              "            observer.disconnect();\n",
              "        }}\n",
              "}});\n",
              "\n",
              "// Listen for the removal of the full notebook cells\n",
              "var notebookContainer = gd.closest('#notebook-container');\n",
              "if (notebookContainer) {{\n",
              "    x.observe(notebookContainer, {childList: true});\n",
              "}}\n",
              "\n",
              "// Listen for the clearing of the current output cell\n",
              "var outputEl = gd.closest('.output');\n",
              "if (outputEl) {{\n",
              "    x.observe(outputEl, {childList: true});\n",
              "}}\n",
              "\n",
              "                        })                };                            </script>        </div>\n",
              "</body>\n",
              "</html>"
            ]
          },
          "metadata": {}
        },
        {
          "output_type": "display_data",
          "data": {
            "text/html": [
              "<html>\n",
              "<head><meta charset=\"utf-8\" /></head>\n",
              "<body>\n",
              "    <div>            <script src=\"https://cdnjs.cloudflare.com/ajax/libs/mathjax/2.7.5/MathJax.js?config=TeX-AMS-MML_SVG\"></script><script type=\"text/javascript\">if (window.MathJax && window.MathJax.Hub && window.MathJax.Hub.Config) {window.MathJax.Hub.Config({SVG: {font: \"STIX-Web\"}});}</script>                <script type=\"text/javascript\">window.PlotlyConfig = {MathJaxConfig: 'local'};</script>\n",
              "        <script charset=\"utf-8\" src=\"https://cdn.plot.ly/plotly-2.35.2.min.js\"></script>                <div id=\"34dda452-9f7c-4aee-90a1-1aeae6de138c\" class=\"plotly-graph-div\" style=\"height:525px; width:100%;\"></div>            <script type=\"text/javascript\">                                    window.PLOTLYENV=window.PLOTLYENV || {};                                    if (document.getElementById(\"34dda452-9f7c-4aee-90a1-1aeae6de138c\")) {                    Plotly.newPlot(                        \"34dda452-9f7c-4aee-90a1-1aeae6de138c\",                        [{\"hovertemplate\":\"Ball Number=%{x}\\u003cbr\\u003eTotal Wickets=%{y}\\u003cextra\\u003e\\u003c\\u002fextra\\u003e\",\"legendgroup\":\"\",\"line\":{\"color\":\"#636efa\",\"dash\":\"solid\"},\"marker\":{\"symbol\":\"circle\"},\"mode\":\"lines\",\"name\":\"\",\"orientation\":\"v\",\"showlegend\":false,\"x\":[0,1,2,3,4,5,6,7,8,9,10,11,12,13,14,15,16,17,18,19,20,21,22,23,24,25,26,27,28,29,30,31,32,33,34,35,36,37,38,39,40,41,42,43,44,45,46,47,48,49,50,51,52,53,54,55,56,57,58,59,60,61,62,63,64,65,66,67,68,69,70,71,72,73,74,75,76,77,78,79,80,81,82,83,84,85,86,87,88,89,90,91,92,93,94,95,96],\"xaxis\":\"x\",\"y\":[0,0,0,0,0,0,0,0,0,0,0,0,0,0,0,0,0,0,0,0,0,0,0,0,0,1,1,1,1,1,1,1,1,1,1,1,1,1,1,1,1,1,1,1,1,1,1,1,1,1,1,1,1,1,1,1,1,1,1,1,1,1,1,1,1,1,1,1,1,1,1,1,1,1,1,1,1,1,1,1,1,2,3,3,3,3,3,3,3,3,3,3,3,3,3,3,3],\"yaxis\":\"y\",\"type\":\"scatter\"}],                        {\"template\":{\"data\":{\"barpolar\":[{\"marker\":{\"line\":{\"color\":\"rgb(17,17,17)\",\"width\":0.5},\"pattern\":{\"fillmode\":\"overlay\",\"size\":10,\"solidity\":0.2}},\"type\":\"barpolar\"}],\"bar\":[{\"error_x\":{\"color\":\"#f2f5fa\"},\"error_y\":{\"color\":\"#f2f5fa\"},\"marker\":{\"line\":{\"color\":\"rgb(17,17,17)\",\"width\":0.5},\"pattern\":{\"fillmode\":\"overlay\",\"size\":10,\"solidity\":0.2}},\"type\":\"bar\"}],\"carpet\":[{\"aaxis\":{\"endlinecolor\":\"#A2B1C6\",\"gridcolor\":\"#506784\",\"linecolor\":\"#506784\",\"minorgridcolor\":\"#506784\",\"startlinecolor\":\"#A2B1C6\"},\"baxis\":{\"endlinecolor\":\"#A2B1C6\",\"gridcolor\":\"#506784\",\"linecolor\":\"#506784\",\"minorgridcolor\":\"#506784\",\"startlinecolor\":\"#A2B1C6\"},\"type\":\"carpet\"}],\"choropleth\":[{\"colorbar\":{\"outlinewidth\":0,\"ticks\":\"\"},\"type\":\"choropleth\"}],\"contourcarpet\":[{\"colorbar\":{\"outlinewidth\":0,\"ticks\":\"\"},\"type\":\"contourcarpet\"}],\"contour\":[{\"colorbar\":{\"outlinewidth\":0,\"ticks\":\"\"},\"colorscale\":[[0.0,\"#0d0887\"],[0.1111111111111111,\"#46039f\"],[0.2222222222222222,\"#7201a8\"],[0.3333333333333333,\"#9c179e\"],[0.4444444444444444,\"#bd3786\"],[0.5555555555555556,\"#d8576b\"],[0.6666666666666666,\"#ed7953\"],[0.7777777777777778,\"#fb9f3a\"],[0.8888888888888888,\"#fdca26\"],[1.0,\"#f0f921\"]],\"type\":\"contour\"}],\"heatmapgl\":[{\"colorbar\":{\"outlinewidth\":0,\"ticks\":\"\"},\"colorscale\":[[0.0,\"#0d0887\"],[0.1111111111111111,\"#46039f\"],[0.2222222222222222,\"#7201a8\"],[0.3333333333333333,\"#9c179e\"],[0.4444444444444444,\"#bd3786\"],[0.5555555555555556,\"#d8576b\"],[0.6666666666666666,\"#ed7953\"],[0.7777777777777778,\"#fb9f3a\"],[0.8888888888888888,\"#fdca26\"],[1.0,\"#f0f921\"]],\"type\":\"heatmapgl\"}],\"heatmap\":[{\"colorbar\":{\"outlinewidth\":0,\"ticks\":\"\"},\"colorscale\":[[0.0,\"#0d0887\"],[0.1111111111111111,\"#46039f\"],[0.2222222222222222,\"#7201a8\"],[0.3333333333333333,\"#9c179e\"],[0.4444444444444444,\"#bd3786\"],[0.5555555555555556,\"#d8576b\"],[0.6666666666666666,\"#ed7953\"],[0.7777777777777778,\"#fb9f3a\"],[0.8888888888888888,\"#fdca26\"],[1.0,\"#f0f921\"]],\"type\":\"heatmap\"}],\"histogram2dcontour\":[{\"colorbar\":{\"outlinewidth\":0,\"ticks\":\"\"},\"colorscale\":[[0.0,\"#0d0887\"],[0.1111111111111111,\"#46039f\"],[0.2222222222222222,\"#7201a8\"],[0.3333333333333333,\"#9c179e\"],[0.4444444444444444,\"#bd3786\"],[0.5555555555555556,\"#d8576b\"],[0.6666666666666666,\"#ed7953\"],[0.7777777777777778,\"#fb9f3a\"],[0.8888888888888888,\"#fdca26\"],[1.0,\"#f0f921\"]],\"type\":\"histogram2dcontour\"}],\"histogram2d\":[{\"colorbar\":{\"outlinewidth\":0,\"ticks\":\"\"},\"colorscale\":[[0.0,\"#0d0887\"],[0.1111111111111111,\"#46039f\"],[0.2222222222222222,\"#7201a8\"],[0.3333333333333333,\"#9c179e\"],[0.4444444444444444,\"#bd3786\"],[0.5555555555555556,\"#d8576b\"],[0.6666666666666666,\"#ed7953\"],[0.7777777777777778,\"#fb9f3a\"],[0.8888888888888888,\"#fdca26\"],[1.0,\"#f0f921\"]],\"type\":\"histogram2d\"}],\"histogram\":[{\"marker\":{\"pattern\":{\"fillmode\":\"overlay\",\"size\":10,\"solidity\":0.2}},\"type\":\"histogram\"}],\"mesh3d\":[{\"colorbar\":{\"outlinewidth\":0,\"ticks\":\"\"},\"type\":\"mesh3d\"}],\"parcoords\":[{\"line\":{\"colorbar\":{\"outlinewidth\":0,\"ticks\":\"\"}},\"type\":\"parcoords\"}],\"pie\":[{\"automargin\":true,\"type\":\"pie\"}],\"scatter3d\":[{\"line\":{\"colorbar\":{\"outlinewidth\":0,\"ticks\":\"\"}},\"marker\":{\"colorbar\":{\"outlinewidth\":0,\"ticks\":\"\"}},\"type\":\"scatter3d\"}],\"scattercarpet\":[{\"marker\":{\"colorbar\":{\"outlinewidth\":0,\"ticks\":\"\"}},\"type\":\"scattercarpet\"}],\"scattergeo\":[{\"marker\":{\"colorbar\":{\"outlinewidth\":0,\"ticks\":\"\"}},\"type\":\"scattergeo\"}],\"scattergl\":[{\"marker\":{\"line\":{\"color\":\"#283442\"}},\"type\":\"scattergl\"}],\"scattermapbox\":[{\"marker\":{\"colorbar\":{\"outlinewidth\":0,\"ticks\":\"\"}},\"type\":\"scattermapbox\"}],\"scatterpolargl\":[{\"marker\":{\"colorbar\":{\"outlinewidth\":0,\"ticks\":\"\"}},\"type\":\"scatterpolargl\"}],\"scatterpolar\":[{\"marker\":{\"colorbar\":{\"outlinewidth\":0,\"ticks\":\"\"}},\"type\":\"scatterpolar\"}],\"scatter\":[{\"marker\":{\"line\":{\"color\":\"#283442\"}},\"type\":\"scatter\"}],\"scatterternary\":[{\"marker\":{\"colorbar\":{\"outlinewidth\":0,\"ticks\":\"\"}},\"type\":\"scatterternary\"}],\"surface\":[{\"colorbar\":{\"outlinewidth\":0,\"ticks\":\"\"},\"colorscale\":[[0.0,\"#0d0887\"],[0.1111111111111111,\"#46039f\"],[0.2222222222222222,\"#7201a8\"],[0.3333333333333333,\"#9c179e\"],[0.4444444444444444,\"#bd3786\"],[0.5555555555555556,\"#d8576b\"],[0.6666666666666666,\"#ed7953\"],[0.7777777777777778,\"#fb9f3a\"],[0.8888888888888888,\"#fdca26\"],[1.0,\"#f0f921\"]],\"type\":\"surface\"}],\"table\":[{\"cells\":{\"fill\":{\"color\":\"#506784\"},\"line\":{\"color\":\"rgb(17,17,17)\"}},\"header\":{\"fill\":{\"color\":\"#2a3f5f\"},\"line\":{\"color\":\"rgb(17,17,17)\"}},\"type\":\"table\"}]},\"layout\":{\"annotationdefaults\":{\"arrowcolor\":\"#f2f5fa\",\"arrowhead\":0,\"arrowwidth\":1},\"autotypenumbers\":\"strict\",\"coloraxis\":{\"colorbar\":{\"outlinewidth\":0,\"ticks\":\"\"}},\"colorscale\":{\"diverging\":[[0,\"#8e0152\"],[0.1,\"#c51b7d\"],[0.2,\"#de77ae\"],[0.3,\"#f1b6da\"],[0.4,\"#fde0ef\"],[0.5,\"#f7f7f7\"],[0.6,\"#e6f5d0\"],[0.7,\"#b8e186\"],[0.8,\"#7fbc41\"],[0.9,\"#4d9221\"],[1,\"#276419\"]],\"sequential\":[[0.0,\"#0d0887\"],[0.1111111111111111,\"#46039f\"],[0.2222222222222222,\"#7201a8\"],[0.3333333333333333,\"#9c179e\"],[0.4444444444444444,\"#bd3786\"],[0.5555555555555556,\"#d8576b\"],[0.6666666666666666,\"#ed7953\"],[0.7777777777777778,\"#fb9f3a\"],[0.8888888888888888,\"#fdca26\"],[1.0,\"#f0f921\"]],\"sequentialminus\":[[0.0,\"#0d0887\"],[0.1111111111111111,\"#46039f\"],[0.2222222222222222,\"#7201a8\"],[0.3333333333333333,\"#9c179e\"],[0.4444444444444444,\"#bd3786\"],[0.5555555555555556,\"#d8576b\"],[0.6666666666666666,\"#ed7953\"],[0.7777777777777778,\"#fb9f3a\"],[0.8888888888888888,\"#fdca26\"],[1.0,\"#f0f921\"]]},\"colorway\":[\"#636efa\",\"#EF553B\",\"#00cc96\",\"#ab63fa\",\"#FFA15A\",\"#19d3f3\",\"#FF6692\",\"#B6E880\",\"#FF97FF\",\"#FECB52\"],\"font\":{\"color\":\"#f2f5fa\"},\"geo\":{\"bgcolor\":\"rgb(17,17,17)\",\"lakecolor\":\"rgb(17,17,17)\",\"landcolor\":\"rgb(17,17,17)\",\"showlakes\":true,\"showland\":true,\"subunitcolor\":\"#506784\"},\"hoverlabel\":{\"align\":\"left\"},\"hovermode\":\"closest\",\"mapbox\":{\"style\":\"dark\"},\"paper_bgcolor\":\"rgb(17,17,17)\",\"plot_bgcolor\":\"rgb(17,17,17)\",\"polar\":{\"angularaxis\":{\"gridcolor\":\"#506784\",\"linecolor\":\"#506784\",\"ticks\":\"\"},\"bgcolor\":\"rgb(17,17,17)\",\"radialaxis\":{\"gridcolor\":\"#506784\",\"linecolor\":\"#506784\",\"ticks\":\"\"}},\"scene\":{\"xaxis\":{\"backgroundcolor\":\"rgb(17,17,17)\",\"gridcolor\":\"#506784\",\"gridwidth\":2,\"linecolor\":\"#506784\",\"showbackground\":true,\"ticks\":\"\",\"zerolinecolor\":\"#C8D4E3\"},\"yaxis\":{\"backgroundcolor\":\"rgb(17,17,17)\",\"gridcolor\":\"#506784\",\"gridwidth\":2,\"linecolor\":\"#506784\",\"showbackground\":true,\"ticks\":\"\",\"zerolinecolor\":\"#C8D4E3\"},\"zaxis\":{\"backgroundcolor\":\"rgb(17,17,17)\",\"gridcolor\":\"#506784\",\"gridwidth\":2,\"linecolor\":\"#506784\",\"showbackground\":true,\"ticks\":\"\",\"zerolinecolor\":\"#C8D4E3\"}},\"shapedefaults\":{\"line\":{\"color\":\"#f2f5fa\"}},\"sliderdefaults\":{\"bgcolor\":\"#C8D4E3\",\"bordercolor\":\"rgb(17,17,17)\",\"borderwidth\":1,\"tickwidth\":0},\"ternary\":{\"aaxis\":{\"gridcolor\":\"#506784\",\"linecolor\":\"#506784\",\"ticks\":\"\"},\"baxis\":{\"gridcolor\":\"#506784\",\"linecolor\":\"#506784\",\"ticks\":\"\"},\"bgcolor\":\"rgb(17,17,17)\",\"caxis\":{\"gridcolor\":\"#506784\",\"linecolor\":\"#506784\",\"ticks\":\"\"}},\"title\":{\"x\":0.05},\"updatemenudefaults\":{\"bgcolor\":\"#506784\",\"borderwidth\":0},\"xaxis\":{\"automargin\":true,\"gridcolor\":\"#283442\",\"linecolor\":\"#506784\",\"ticks\":\"\",\"title\":{\"standoff\":15},\"zerolinecolor\":\"#283442\",\"zerolinewidth\":2},\"yaxis\":{\"automargin\":true,\"gridcolor\":\"#283442\",\"linecolor\":\"#506784\",\"ticks\":\"\",\"title\":{\"standoff\":15},\"zerolinecolor\":\"#283442\",\"zerolinewidth\":2}}},\"xaxis\":{\"anchor\":\"y\",\"domain\":[0.0,1.0],\"title\":{\"text\":\"Ball Number\"}},\"yaxis\":{\"anchor\":\"x\",\"domain\":[0.0,1.0],\"title\":{\"text\":\"Total Wickets\"}},\"legend\":{\"tracegroupgap\":0},\"title\":{\"text\":\"Interactive Wickets Progression\"}},                        {\"responsive\": true}                    ).then(function(){\n",
              "                            \n",
              "var gd = document.getElementById('34dda452-9f7c-4aee-90a1-1aeae6de138c');\n",
              "var x = new MutationObserver(function (mutations, observer) {{\n",
              "        var display = window.getComputedStyle(gd).display;\n",
              "        if (!display || display === 'none') {{\n",
              "            console.log([gd, 'removed!']);\n",
              "            Plotly.purge(gd);\n",
              "            observer.disconnect();\n",
              "        }}\n",
              "}});\n",
              "\n",
              "// Listen for the removal of the full notebook cells\n",
              "var notebookContainer = gd.closest('#notebook-container');\n",
              "if (notebookContainer) {{\n",
              "    x.observe(notebookContainer, {childList: true});\n",
              "}}\n",
              "\n",
              "// Listen for the clearing of the current output cell\n",
              "var outputEl = gd.closest('.output');\n",
              "if (outputEl) {{\n",
              "    x.observe(outputEl, {childList: true});\n",
              "}}\n",
              "\n",
              "                        })                };                            </script>        </div>\n",
              "</body>\n",
              "</html>"
            ]
          },
          "metadata": {}
        }
      ]
    },
    {
      "cell_type": "markdown",
      "source": [
        "#OPPONENT STRATEGY AI"
      ],
      "metadata": {
        "id": "LdpRiwI378BQ"
      }
    },
    {
      "cell_type": "markdown",
      "source": [
        "Predict how an opposing team will approach the match — whether they’ll:\n",
        "\n",
        "1. Use aggressive or conservative batting\n",
        "\n",
        "2. Open with pace or spin\n",
        "\n",
        "3. Rotate bowlers in a specific pattern\n",
        "\n",
        "4. Use specific tactics in different game phases"
      ],
      "metadata": {
        "id": "6ggwYcbf8e3k"
      }
    },
    {
      "cell_type": "code",
      "source": [
        "matches = pd.read_csv('matches_updated_mens_ipl.csv')"
      ],
      "metadata": {
        "id": "aXSD6_ew8FhP"
      },
      "execution_count": 59,
      "outputs": []
    },
    {
      "cell_type": "code",
      "source": [
        "from sklearn.model_selection import train_test_split\n",
        "from sklearn.preprocessing import LabelEncoder\n",
        "from sklearn.metrics import classification_report, confusion_matrix\n",
        "from xgboost import XGBClassifier\n",
        "from imblearn.over_sampling import SMOTE\n",
        "from sklearn.ensemble import RandomForestClassifier\n",
        "from sklearn.metrics import accuracy_score"
      ],
      "metadata": {
        "id": "NdZjzS8X8F2n"
      },
      "execution_count": 118,
      "outputs": []
    },
    {
      "cell_type": "code",
      "source": [
        "pip install xgboost imbalanced-learn"
      ],
      "metadata": {
        "colab": {
          "base_uri": "https://localhost:8080/"
        },
        "collapsed": true,
        "id": "0cOWky7eTY8R",
        "outputId": "e4cac173-3237-4083-9068-93d39130dead"
      },
      "execution_count": 61,
      "outputs": [
        {
          "output_type": "stream",
          "name": "stdout",
          "text": [
            "Requirement already satisfied: xgboost in /usr/local/lib/python3.11/dist-packages (2.1.4)\n",
            "Requirement already satisfied: imbalanced-learn in /usr/local/lib/python3.11/dist-packages (0.13.0)\n",
            "Requirement already satisfied: numpy in /usr/local/lib/python3.11/dist-packages (from xgboost) (2.0.2)\n",
            "Requirement already satisfied: nvidia-nccl-cu12 in /usr/local/lib/python3.11/dist-packages (from xgboost) (2.21.5)\n",
            "Requirement already satisfied: scipy in /usr/local/lib/python3.11/dist-packages (from xgboost) (1.14.1)\n",
            "Requirement already satisfied: scikit-learn<2,>=1.3.2 in /usr/local/lib/python3.11/dist-packages (from imbalanced-learn) (1.6.1)\n",
            "Requirement already satisfied: sklearn-compat<1,>=0.1 in /usr/local/lib/python3.11/dist-packages (from imbalanced-learn) (0.1.3)\n",
            "Requirement already satisfied: joblib<2,>=1.1.1 in /usr/local/lib/python3.11/dist-packages (from imbalanced-learn) (1.4.2)\n",
            "Requirement already satisfied: threadpoolctl<4,>=2.0.0 in /usr/local/lib/python3.11/dist-packages (from imbalanced-learn) (3.6.0)\n"
          ]
        }
      ]
    },
    {
      "cell_type": "code",
      "source": [
        "deliveries_df = pd.read_csv(\"deliveries_updated_mens_ipl.csv\")\n",
        "matches_df = pd.read_csv(\"matches_updated_mens_ipl.csv\")"
      ],
      "metadata": {
        "id": "GngpUAUW7ZXU"
      },
      "execution_count": 187,
      "outputs": []
    },
    {
      "cell_type": "code",
      "source": [
        "deliveries_df['total_runs'] = deliveries_df.groupby('matchId')['batsman_runs'].cumsum()"
      ],
      "metadata": {
        "id": "EeZo52CS7d_C"
      },
      "execution_count": 188,
      "outputs": []
    },
    {
      "cell_type": "markdown",
      "source": [
        "Powerplay strategy"
      ],
      "metadata": {
        "id": "F2i0_9L7E_aE"
      }
    },
    {
      "cell_type": "code",
      "source": [
        "# Merge using matchId\n",
        "merged_df = deliveries_df.merge(\n",
        "    matches_df[['matchId', 'venue', 'toss_decision', 'team1', 'team2']],\n",
        "    on='matchId',\n",
        "    how='left'\n",
        ")"
      ],
      "metadata": {
        "id": "e9Mr9gOH7fCe"
      },
      "execution_count": 332,
      "outputs": []
    },
    {
      "cell_type": "code",
      "source": [
        "powerplay_df = merged_df[merged_df['over'] <= 6]"
      ],
      "metadata": {
        "id": "D6pVzquE7i0k"
      },
      "execution_count": 333,
      "outputs": []
    },
    {
      "cell_type": "code",
      "source": [
        "# Group by match and batting team to get total runs\n",
        "powerplay_runs = powerplay_df.groupby(['matchId', 'batting_team'])[['total_runs', 'ball', 'team1', 'venue', 'toss_decision']].agg({'total_runs': 'sum', 'ball': 'count', 'team1': 'first', 'venue': 'first', 'toss_decision': 'first'}).reset_index()"
      ],
      "metadata": {
        "id": "tcvht-Nj77mS"
      },
      "execution_count": 334,
      "outputs": []
    },
    {
      "cell_type": "code",
      "source": [
        "# Step 2: Feature Engineering – Calculate run rate in powerplay\n",
        "powerplay_runs['run_rate'] = (powerplay_runs['total_runs'] / powerplay_runs['ball']) * 6"
      ],
      "metadata": {
        "id": "EY6iy9Ac8GWl"
      },
      "execution_count": 335,
      "outputs": []
    },
    {
      "cell_type": "code",
      "source": [
        "# Label strategy: Aggressive if RR > 9\n",
        "powerplay_runs['batting_strategy'] = powerplay_runs['run_rate'].apply(lambda x: 'Aggressive' if x > 9 else 'Conservative')"
      ],
      "metadata": {
        "id": "k3yMG77z8GbR"
      },
      "execution_count": 336,
      "outputs": []
    },
    {
      "cell_type": "code",
      "source": [
        "# Encode categorical variables\n",
        "label_encoders = {}\n",
        "\n",
        "le_team = LabelEncoder()\n",
        "le_venue = LabelEncoder()\n",
        "le_toss = LabelEncoder()\n",
        "\n",
        "powerplay_runs['team1_encoded'] = le_team.fit_transform(powerplay_runs['team1'])\n",
        "powerplay_runs['venue_encoded'] = le_venue.fit_transform(powerplay_runs['venue'])\n",
        "powerplay_runs['toss_encoded'] = le_toss.fit_transform(powerplay_runs['toss_decision'])\n",
        "\n",
        "\n",
        "X = powerplay_runs[['team1_encoded', 'venue_encoded', 'toss_encoded']]\n",
        "y = powerplay_runs['batting_strategy']\n",
        "X_train, X_test, y_train, y_test = train_test_split(X, y, test_size=0.2, random_state=42)"
      ],
      "metadata": {
        "id": "CTKdIz1n95Tc"
      },
      "execution_count": 337,
      "outputs": []
    },
    {
      "cell_type": "code",
      "source": [
        "# Train the model\n",
        "model = RandomForestClassifier()\n",
        "model.fit(X_train, y_train)\n",
        "\n",
        "y_pred = model.predict(X_test)\n",
        "\n",
        "accuracy = accuracy_score(y_test, y_pred)\n",
        "print(\"Model Accuracy:\", model.score(X_test, y_test))"
      ],
      "metadata": {
        "id": "xbvN-ohs-U-8",
        "colab": {
          "base_uri": "https://localhost:8080/"
        },
        "outputId": "6871d450-f3ce-49d7-a204-62b01823fc1d"
      },
      "execution_count": 338,
      "outputs": [
        {
          "output_type": "stream",
          "name": "stdout",
          "text": [
            "Model Accuracy: 1.0\n"
          ]
        }
      ]
    },
    {
      "cell_type": "markdown",
      "source": [
        "Predict Opponent Strategy for a New Match"
      ],
      "metadata": {
        "id": "8na_b796YBR7"
      }
    },
    {
      "cell_type": "code",
      "source": [
        "# Define a new match context\n",
        "new_match = {\n",
        "    'team1': 'Royal Challengers Bangalore',\n",
        "    'team2': 'Chennai Super Kings',\n",
        "    'venue': 'M Chinnaswamy Stadium',\n",
        "    'toss_decision': 'bat',\n",
        "\n",
        "}"
      ],
      "metadata": {
        "id": "qMTGiy7C8G1v"
      },
      "execution_count": 339,
      "outputs": []
    },
    {
      "cell_type": "code",
      "source": [
        "encoded_input = [\n",
        "    le_team.transform([new_match['team1']])[0],\n",
        "    le_venue.transform([new_match['venue']])[0],\n",
        "    le_toss.transform([new_match['toss_decision']])[0],\n",
        "]"
      ],
      "metadata": {
        "id": "S1m1itvweRSx"
      },
      "execution_count": 340,
      "outputs": []
    },
    {
      "cell_type": "code",
      "source": [
        "# Predict strategy\n",
        "predicted_strategy = model.predict([encoded_input])[0]\n",
        "print(f\"Predicted Opponent Powerplay Strategy: {predicted_strategy}\")"
      ],
      "metadata": {
        "id": "f3eRZQmx8HAh",
        "colab": {
          "base_uri": "https://localhost:8080/"
        },
        "outputId": "19ce2ae8-f339-4325-aab5-11551692592e"
      },
      "execution_count": 341,
      "outputs": [
        {
          "output_type": "stream",
          "name": "stdout",
          "text": [
            "Predicted Opponent Powerplay Strategy: Aggressive\n"
          ]
        }
      ]
    },
    {
      "cell_type": "markdown",
      "source": [
        "Middle Over Strategy"
      ],
      "metadata": {
        "id": "TEQSv1M7FN7m"
      }
    },
    {
      "source": [
        "middle_df = merged_df[ (merged_df['over'] >= 7) & (merged_df['over'] <= 16)]"
      ],
      "cell_type": "code",
      "metadata": {
        "id": "1dRCXAX2Fuw1"
      },
      "execution_count": 199,
      "outputs": []
    },
    {
      "cell_type": "code",
      "source": [
        "# Group by match and calculate total overs bowled in the middle phase\n",
        "middle_overs_total = middle_df.groupby('matchId')['over'].nunique().reset_index()\n",
        "middle_overs_total.rename(columns={'over': 'middle_overs_total'}, inplace=True)"
      ],
      "metadata": {
        "id": "JgDhOoE4EcB9"
      },
      "execution_count": 200,
      "outputs": []
    },
    {
      "cell_type": "code",
      "source": [
        "merged_df = pd.merge(merged_df, middle_overs_total, on='matchId', how='left')"
      ],
      "metadata": {
        "id": "q20pRGLPskwB"
      },
      "execution_count": 201,
      "outputs": []
    },
    {
      "cell_type": "code",
      "source": [
        "merged_df['spin_overs'] = np.random.randint(2, 9, len(merged_df))  # Simulate spin overs (2 to 8)"
      ],
      "metadata": {
        "id": "neH6LAQTuLQg"
      },
      "execution_count": 202,
      "outputs": []
    },
    {
      "cell_type": "code",
      "source": [
        "merged_df['spin_percentage'] = (merged_df['spin_overs'] / merged_df['middle_overs_total']) * 100"
      ],
      "metadata": {
        "id": "UqeGFglRuOVH"
      },
      "execution_count": 203,
      "outputs": []
    },
    {
      "cell_type": "code",
      "source": [
        "# Strategy: Spin-Heavy if > 50% spin, otherwise Pace-Heavy\n",
        "merged_df['bowling_strategy'] = merged_df['spin_percentage'].apply(lambda x: 'Spin-Heavy' if x > 50 else 'Pace-Heavy')"
      ],
      "metadata": {
        "id": "ZrJVXhZGEcPQ"
      },
      "execution_count": 204,
      "outputs": []
    },
    {
      "cell_type": "code",
      "source": [
        "# Encode categorical features\n",
        "le_venue = LabelEncoder()\n",
        "le_team2 = LabelEncoder()\n",
        "le_toss = LabelEncoder()\n",
        "le_opponents_weakness = LabelEncoder()\n",
        "le_team_bowling_strength = LabelEncoder()\n",
        "\n",
        "# Create encoded columns in merged_df\n",
        "merged_df['venue_encoded'] = le_venue.fit_transform(merged_df['venue'])\n",
        "merged_df['toss_encoded'] = le_toss.fit_transform(merged_df['toss_decision'])\n",
        "merged_df['team2_encoded'] = le_team2.fit_transform(merged_df['team2'])\n",
        "merged_df['team_bowling_strength'] = np.random.randint(1, 6, size=len(merged_df))\n",
        "merged_df['opposition_weakness'] = np.random.randint(1, 6, size=len(merged_df))"
      ],
      "metadata": {
        "id": "B2ZGVWRjkiw5"
      },
      "execution_count": 215,
      "outputs": []
    },
    {
      "cell_type": "code",
      "source": [
        "features_bowling = ['team2_encoded', 'venue_encoded', 'toss_encoded', 'team_bowling_strength', 'opposition_weakness']\n",
        "target_bowling = 'bowling_strategy'"
      ],
      "metadata": {
        "id": "yMmLen5MhjYa"
      },
      "execution_count": 216,
      "outputs": []
    },
    {
      "cell_type": "code",
      "source": [
        "X = merged_df[features_bowling]\n",
        "y = merged_df[target_bowling]\n",
        "\n",
        "# Train-test split\n",
        "X_train, X_test, y_train, y_test = train_test_split(X, y, test_size=0.2, random_state=42)\n",
        "\n",
        "# Model training\n",
        "bowling_model = RandomForestClassifier(random_state=42)\n",
        "bowling_model.fit(X_train, y_train)\n",
        "\n",
        "bowling_accuracy = bowling_model.score(X_test, y_test)\n",
        "print(f\"Bowling Strategy Model Accuracy: {bowling_accuracy:.2f}\")"
      ],
      "metadata": {
        "id": "RGi_i7DUEcVo",
        "colab": {
          "base_uri": "https://localhost:8080/"
        },
        "outputId": "e4490fed-3366-42c1-d063-332972e7bd71"
      },
      "execution_count": 305,
      "outputs": [
        {
          "output_type": "stream",
          "name": "stdout",
          "text": [
            "Bowling Strategy Model Accuracy: 0.53\n"
          ]
        }
      ]
    },
    {
      "cell_type": "code",
      "source": [
        "new_match = {\n",
        "    'team1': 'Royal Challengers Bangalore',\n",
        "    'team2': 'Chennai Super Kings',\n",
        "    'venue': 'M Chinnaswamy Stadium',\n",
        "    'toss_decision': 'bat',\n",
        "    'opponents_weakness': 4,\n",
        "    'team_bowling_strength': 'Spin',\n",
        "}"
      ],
      "metadata": {
        "id": "kCMdUBQeEcdB"
      },
      "execution_count": 273,
      "outputs": []
    },
    {
      "cell_type": "code",
      "source": [
        "# Encode categorical features\n",
        "le_venue = LabelEncoder()\n",
        "le_team2 = LabelEncoder()\n",
        "le_toss = LabelEncoder()\n",
        "le_opponents_weakness = LabelEncoder()\n",
        "le_team_bowling_strength = LabelEncoder()\n",
        "\n",
        "le_venue.fit(merged_df['venue'])\n",
        "le_toss.fit(merged_df['toss_decision'])\n",
        "le_team2.fit(merged_df['team2'])\n",
        "le_opponents_weakness.fit(merged_df['opposition_weakness'])\n",
        "le_team_bowling_strength.fit(merged_df['team_bowling_strength'])\n",
        "\n",
        "# Create encoded columns in merged_df\n",
        "merged_df['venue_encoded'] = le_venue.transform(merged_df['venue'])\n",
        "merged_df['toss_encoded'] = le_toss.transform(merged_df['toss_decision'])\n",
        "merged_df['team2_encoded'] = le_team2.transform(merged_df['team2'])\n",
        "merged_df['team_bowling_strength'] = le_team_bowling_strength.transform(merged_df['team_bowling_strength'])\n",
        "merged_df['opposition_weakness'] = le_opponents_weakness.transform(merged_df['opposition_weakness'])"
      ],
      "metadata": {
        "id": "TqltI0onyUKA"
      },
      "execution_count": 264,
      "outputs": []
    },
    {
      "cell_type": "code",
      "source": [
        "new_match_bowling_features = [\n",
        "\n",
        "    le_team.transform([new_match['team2']])[0],\n",
        "    le_venue.transform([new_match['venue']])[0],\n",
        "    le_toss.transform([new_match['toss_decision']])[0],\n",
        "    le_opponents_weakness.transform([new_match['opponents_weakness']])[0],\n",
        "    le_team_bowling_strength.transform([new_match['team_bowling_strength']])[0] if new_match['team_bowling_strength'] in le_team_bowling_strength.classes_ else -1\n",
        "    ]"
      ],
      "metadata": {
        "id": "XD5V4kYPEcqH"
      },
      "execution_count": 254,
      "outputs": []
    },
    {
      "cell_type": "code",
      "source": [
        "#Predict strategy\n",
        "predicted_bowling_strategy = bowling_model.predict([new_match_bowling_features])[0]\n",
        "\n",
        "print(f\"Predicted Opponent Bowling Strategy: {predicted_bowling_strategy}\")"
      ],
      "metadata": {
        "id": "07ukjhSPEcuO",
        "colab": {
          "base_uri": "https://localhost:8080/"
        },
        "outputId": "57d34bf6-8910-449d-f509-2cd01dcff5f0"
      },
      "execution_count": 304,
      "outputs": [
        {
          "output_type": "stream",
          "name": "stdout",
          "text": [
            "Predicted Opponent Bowling Strategy: Pace-Heavy\n"
          ]
        }
      ]
    },
    {
      "cell_type": "markdown",
      "source": [
        "Death over bowling strategy\n",
        "\n"
      ],
      "metadata": {
        "id": "8wdlLWYU2-CE"
      }
    },
    {
      "cell_type": "code",
      "source": [
        "deliveries['total_runs'] = deliveries.groupby('matchId')['batsman_runs'].cumsum()"
      ],
      "metadata": {
        "id": "dWZzk13m3Z2n"
      },
      "execution_count": 257,
      "outputs": []
    },
    {
      "cell_type": "code",
      "source": [
        "csk_deliveries = deliveries[deliveries['bowling_team'] == 'Chennai Super Kings']  # Or deliveries['bowling_team'] == 'Chennai Super Kings'\n",
        "\n",
        "# Get unique bowlers for Chennai Super Kings\n",
        "unique_bowlers = csk_deliveries['bowler'].unique()\n",
        "\n",
        "print(unique_bowlers)"
      ],
      "metadata": {
        "colab": {
          "base_uri": "https://localhost:8080/"
        },
        "id": "P817wZSM6p0i",
        "outputId": "ecd12ab2-c797-452c-bb81-a50985ccc15e"
      },
      "execution_count": 280,
      "outputs": [
        {
          "output_type": "stream",
          "name": "stdout",
          "text": [
            "['DL Chahar' 'SR Watson' 'Harbhajan Singh' 'RA Jadeja' 'MA Wood'\n",
            " 'Imran Tahir' 'DJ Bravo' 'SN Thakur' 'KV Sharma' 'L Ngidi' 'KM Asif'\n",
            " 'DJ Willey' 'SK Raina' 'MJ Santner' 'MM Sharma' 'SC Kuggeleijn'\n",
            " 'SM Curran' 'PP Chawla' 'JR Hazlewood' 'Monu Kumar' 'MM Ali'\n",
            " 'TU Deshpande' 'AF Milne' 'S Dube' 'Mukesh Choudhary' 'D Pretorius'\n",
            " 'CJ Jordan' 'M Theekshana' 'Simarjeet Singh' 'PH Solanki' 'M Pathirana'\n",
            " 'JDP Oram' 'MS Gony' 'M Muralitharan' 'P Amarnath' 'Joginder Sharma'\n",
            " 'JA Morkel' 'M Ntini' 'S Vidyut' 'L Balaji' 'CK Kapugedera' 'T Thushara'\n",
            " 'A Flintoff' 'S Tyagi' 'SB Jakati' 'R Ashwin' 'JM Kemp' 'NLTC Perera'\n",
            " 'C Ganapathy' 'DE Bollinger' 'TG Southee' 'S Randiv' 'SB Styris'\n",
            " 'KMDN Kulasekara' 'F du Plessis' 'VY Mahesh' 'BW Hilfenhaus' 'DP Nannes'\n",
            " 'AS Rajpoot' 'B Laughlin' 'CH Morris' 'JO Holder' 'A Nehra' 'P Negi'\n",
            " 'DR Smith' 'IC Pandey' 'S Badree' 'V Shankar' 'DJ Hussey' 'JW Hastings'\n",
            " 'RG More']\n"
          ]
        }
      ]
    },
    {
      "cell_type": "code",
      "source": [
        "rcb_deliveries = deliveries[deliveries['batting_team'] == 'Royal Challengers Bangalore']  # Or deliveries['bowling_team'] == 'Chennai Super Kings'\n",
        "\n",
        "# Get unique bowlers for Chennai Super Kings\n",
        "unique_batsman = rcb_deliveries['batsman'].unique()\n",
        "print(unique_batsman)"
      ],
      "metadata": {
        "colab": {
          "base_uri": "https://localhost:8080/"
        },
        "id": "M-IV9xbb9BvX",
        "outputId": "33579b7b-fcaa-4321-e277-ef73dc9a6b40"
      },
      "execution_count": 287,
      "outputs": [
        {
          "output_type": "stream",
          "name": "stdout",
          "text": [
            "['CH Gayle' 'Mandeep Singh' 'TM Head' 'KM Jadhav' 'SR Watson'\n",
            " 'Sachin Baby' 'STR Binny' 'S Aravind' 'YS Chahal' 'TS Mills'\n",
            " 'A Choudhary' 'Vishnu Vinod' 'Iqbal Abdulla' 'P Negi' 'AB de Villiers'\n",
            " 'V Kohli' 'AF Milne' 'S Badree' 'BB McCullum' 'Q de Kock' 'SN Khan'\n",
            " 'CR Woakes' 'Washington Sundar' 'CJ Anderson' 'UT Yadav' 'Mohammed Siraj'\n",
            " 'M Vohra' 'C de Grandhomme' 'TG Southee' 'PA Patel' 'M Ashwin' 'MM Ali'\n",
            " 'SO Hetmyer' 'S Dube' 'NA Saini' 'P Ray Barman' 'MP Stoinis' 'AD Nath'\n",
            " 'H Klaasen' 'Gurkeerat Singh' 'D Padikkal' 'AJ Finch' 'JR Philippe'\n",
            " 'CH Morris' 'I Udana' 'Shahbaz Ahmed' 'DW Steyn' 'RM Patidar'\n",
            " 'GJ Maxwell' 'DT Christian' 'KA Jamieson' 'HV Patel' 'DR Sams'\n",
            " 'KS Bharat' 'PWH de Silva' 'GHS Garton' 'TH David' 'F du Plessis'\n",
            " 'Anuj Rawat' 'KD Karthik' 'SE Rutherford' 'DJ Willey' 'SS Prabhudessai'\n",
            " 'Akash Deep' 'JR Hazlewood' 'MK Lomror' 'R Dravid' 'W Jaffer' 'JH Kallis'\n",
            " 'CL White' 'MV Boucher' 'B Akhil' 'AA Noffke' 'P Kumar' 'Z Khan'\n",
            " 'SB Joshi' 'S Chanderpaul' 'LRPL Taylor' 'R Vinay Kumar' 'B Chipli'\n",
            " 'Misbah-ul-Haq' 'DT Patil' 'A Kumble' 'J Arunkumar' 'SP Goswami'\n",
            " 'Abdur Razzak' 'JD Ryder' 'KP Pietersen' 'RV Uthappa' 'R Bishnoi'\n",
            " 'KV Sharma' 'Pankaj Singh' 'RE van der Merwe' 'MK Pandey' 'KP Appanna'\n",
            " 'D du Preez' 'EJG Morgan' 'A Mithun' 'S Sriram' 'MA Agarwal' 'TM Dilshan'\n",
            " 'SS Tiwary' 'AUK Pathan' 'CA Pujara' 'JJ van der Wath' 'R Ninan'\n",
            " 'DL Vettori' 'J Syed Mohammad' 'M Kaif' 'LA Pomersbach' 'KB Arun Karthik'\n",
            " 'CK Langeveldt' 'AB McDonald' 'RR Bhatkal' 'M Muralitharan'\n",
            " 'P Parameswaran' 'KK Nair' 'MC Henriques' 'M Kartik' 'JD Unadkat'\n",
            " 'R Rampaul' 'KL Rahul' 'A Mukund' 'NJ Maddinson' 'Yuvraj Singh'\n",
            " 'YV Takawale' 'JA Morkel' 'S Rana' 'MA Starc' 'AB Dinda' 'VR Aaron'\n",
            " 'RR Rossouw' 'VH Zol' 'AN Ahmed' 'DJG Sammy' 'SA Abbott' 'MS Bisla'\n",
            " 'D Wiese' 'KW Richardson' 'Parvez Rasool' 'CJ Jordan']\n"
          ]
        }
      ]
    },
    {
      "cell_type": "code",
      "source": [
        "# Filter for death overs\n",
        "death_overs_data = deliveries[deliveries['over'] >= 17]\n",
        "\n",
        "# Create target variable (e.g., bowler type)\n",
        "death_overs_data['bowler_type'] = death_overs_data['bowler'].apply(lambda x: 'Pace' if x in ['SM Curran', 'CJ Jordan'] else 'Spin')\n",
        "\n",
        "le_batsman = LabelEncoder()\n",
        "le_bowler = LabelEncoder()\n",
        "death_overs_data['batsman_encoded'] = le_batsman.fit_transform(death_overs_data['batsman'])\n",
        "death_overs_data['bowler_encoded'] = le_bowler.fit_transform(death_overs_data['bowler'])\n",
        "\n",
        "\n",
        "# Select features and target\n",
        "X = death_overs_data[['batsman_encoded', 'bowler_encoded', 'over', 'total_runs']]\n",
        "y = death_overs_data['bowler_type']\n",
        "\n",
        "# Train-test split\n",
        "X_train, X_test, y_train, y_test = train_test_split(X, y, test_size=0.2, random_state=42)\n",
        "\n",
        "# Train the model\n",
        "model = RandomForestClassifier(random_state=42)\n",
        "model.fit(X_train, y_train)\n",
        "\n",
        "# Predict on test data\n",
        "y_pred = model.predict(X_test)\n",
        "\n",
        "# Evaluate accuracy\n",
        "accuracy = accuracy_score(y_test, y_pred)\n",
        "print(f\"Model Accuracy: {accuracy}\")"
      ],
      "metadata": {
        "colab": {
          "base_uri": "https://localhost:8080/"
        },
        "id": "E53jHaY23E38",
        "outputId": "c105b844-0c0c-432b-8b72-001eac13b930"
      },
      "execution_count": 282,
      "outputs": [
        {
          "output_type": "stream",
          "name": "stdout",
          "text": [
            "Model Accuracy: 1.0\n"
          ]
        }
      ]
    },
    {
      "cell_type": "code",
      "source": [
        "# Predict for a new match situation\n",
        "new_match_data = pd.DataFrame([{'batsman': 'AB de Villiers', 'bowler': 'M Pathirana', 'over': 18, 'total_runs': 150}])\n",
        "\n",
        "new_match_data['batsman_encoded'] = le_batsman.transform(new_match_data['batsman'])\n",
        "new_match_data['bowler_encoded'] = le_bowler.transform(new_match_data['bowler'])\n",
        "\n",
        "predicted_strategy = model.predict(new_match_data[['batsman_encoded', 'bowler_encoded', 'over', 'total_runs']])[0]\n",
        "print(f\"Predicted Bowling Strategy: {predicted_strategy}\")"
      ],
      "metadata": {
        "colab": {
          "base_uri": "https://localhost:8080/"
        },
        "id": "apzqCBFV37j3",
        "outputId": "c2db4955-68df-4c05-99b5-0d234f1cc132"
      },
      "execution_count": 289,
      "outputs": [
        {
          "output_type": "stream",
          "name": "stdout",
          "text": [
            "Predicted Bowling Strategy: Spin\n"
          ]
        }
      ]
    },
    {
      "cell_type": "markdown",
      "source": [
        "Team-Specific Strategy Model (e.g., CSK vs RCB)"
      ],
      "metadata": {
        "id": "BPhoi3nsEuit"
      }
    },
    {
      "source": [
        "# Filter data for CSK vs RCB matchups\n",
        "csk_rcb_data = merged_df[\n",
        "    (merged_df['batting_team'] == 'Chennai Super Kings') &\n",
        "    (merged_df['bowling_team'] == 'Royal Challengers Bangalore')\n",
        "]"
      ],
      "cell_type": "code",
      "metadata": {
        "id": "ce3uetNjDl_Z"
      },
      "execution_count": 308,
      "outputs": []
    },
    {
      "source": [
        "# Select features and target\n",
        "features = ['venue_encoded', 'toss_encoded']  # Add or remove features as needed\n",
        "target = 'batting_strategy'  # Or any other strategy you want to model\n",
        "\n",
        "# Calculate run rate and assign batting strategy (similar to powerplay strategy)\n",
        "csk_rcb_data['total_runs'] = csk_rcb_data.groupby('matchId')['batsman_runs'].transform('sum')\n",
        "csk_rcb_data['total_balls'] = csk_rcb_data.groupby('matchId')['ball'].transform('count')\n",
        "csk_rcb_data['run_rate'] = (csk_rcb_data['total_runs'] / csk_rcb_data['total_balls']) * 6\n",
        "csk_rcb_data['batting_strategy'] = csk_rcb_data['run_rate'].apply(lambda x: 'Aggressive' if x > 9 else 'Conservative')\n",
        "\n",
        "X_csk_rcb = csk_rcb_data[features]\n",
        "y_csk_rcb = csk_rcb_data[target]"
      ],
      "cell_type": "code",
      "metadata": {
        "id": "myfM09y-Dod-"
      },
      "execution_count": 310,
      "outputs": []
    },
    {
      "source": [
        "# Train a specialized model for CSK vs RCB\n",
        "csk_rcb_model = RandomForestClassifier(n_estimators=100, random_state=1)\n",
        "csk_rcb_model.fit(X_csk_rcb, y_csk_rcb)"
      ],
      "cell_type": "code",
      "metadata": {
        "colab": {
          "base_uri": "https://localhost:8080/",
          "height": 80
        },
        "id": "d8IzAxcQDy80",
        "outputId": "b551d914-7f94-4826-f224-b86d5a9bcd2c"
      },
      "execution_count": 311,
      "outputs": [
        {
          "output_type": "execute_result",
          "data": {
            "text/plain": [
              "RandomForestClassifier(random_state=1)"
            ],
            "text/html": [
              "<style>#sk-container-id-1 {\n",
              "  /* Definition of color scheme common for light and dark mode */\n",
              "  --sklearn-color-text: #000;\n",
              "  --sklearn-color-text-muted: #666;\n",
              "  --sklearn-color-line: gray;\n",
              "  /* Definition of color scheme for unfitted estimators */\n",
              "  --sklearn-color-unfitted-level-0: #fff5e6;\n",
              "  --sklearn-color-unfitted-level-1: #f6e4d2;\n",
              "  --sklearn-color-unfitted-level-2: #ffe0b3;\n",
              "  --sklearn-color-unfitted-level-3: chocolate;\n",
              "  /* Definition of color scheme for fitted estimators */\n",
              "  --sklearn-color-fitted-level-0: #f0f8ff;\n",
              "  --sklearn-color-fitted-level-1: #d4ebff;\n",
              "  --sklearn-color-fitted-level-2: #b3dbfd;\n",
              "  --sklearn-color-fitted-level-3: cornflowerblue;\n",
              "\n",
              "  /* Specific color for light theme */\n",
              "  --sklearn-color-text-on-default-background: var(--sg-text-color, var(--theme-code-foreground, var(--jp-content-font-color1, black)));\n",
              "  --sklearn-color-background: var(--sg-background-color, var(--theme-background, var(--jp-layout-color0, white)));\n",
              "  --sklearn-color-border-box: var(--sg-text-color, var(--theme-code-foreground, var(--jp-content-font-color1, black)));\n",
              "  --sklearn-color-icon: #696969;\n",
              "\n",
              "  @media (prefers-color-scheme: dark) {\n",
              "    /* Redefinition of color scheme for dark theme */\n",
              "    --sklearn-color-text-on-default-background: var(--sg-text-color, var(--theme-code-foreground, var(--jp-content-font-color1, white)));\n",
              "    --sklearn-color-background: var(--sg-background-color, var(--theme-background, var(--jp-layout-color0, #111)));\n",
              "    --sklearn-color-border-box: var(--sg-text-color, var(--theme-code-foreground, var(--jp-content-font-color1, white)));\n",
              "    --sklearn-color-icon: #878787;\n",
              "  }\n",
              "}\n",
              "\n",
              "#sk-container-id-1 {\n",
              "  color: var(--sklearn-color-text);\n",
              "}\n",
              "\n",
              "#sk-container-id-1 pre {\n",
              "  padding: 0;\n",
              "}\n",
              "\n",
              "#sk-container-id-1 input.sk-hidden--visually {\n",
              "  border: 0;\n",
              "  clip: rect(1px 1px 1px 1px);\n",
              "  clip: rect(1px, 1px, 1px, 1px);\n",
              "  height: 1px;\n",
              "  margin: -1px;\n",
              "  overflow: hidden;\n",
              "  padding: 0;\n",
              "  position: absolute;\n",
              "  width: 1px;\n",
              "}\n",
              "\n",
              "#sk-container-id-1 div.sk-dashed-wrapped {\n",
              "  border: 1px dashed var(--sklearn-color-line);\n",
              "  margin: 0 0.4em 0.5em 0.4em;\n",
              "  box-sizing: border-box;\n",
              "  padding-bottom: 0.4em;\n",
              "  background-color: var(--sklearn-color-background);\n",
              "}\n",
              "\n",
              "#sk-container-id-1 div.sk-container {\n",
              "  /* jupyter's `normalize.less` sets `[hidden] { display: none; }`\n",
              "     but bootstrap.min.css set `[hidden] { display: none !important; }`\n",
              "     so we also need the `!important` here to be able to override the\n",
              "     default hidden behavior on the sphinx rendered scikit-learn.org.\n",
              "     See: https://github.com/scikit-learn/scikit-learn/issues/21755 */\n",
              "  display: inline-block !important;\n",
              "  position: relative;\n",
              "}\n",
              "\n",
              "#sk-container-id-1 div.sk-text-repr-fallback {\n",
              "  display: none;\n",
              "}\n",
              "\n",
              "div.sk-parallel-item,\n",
              "div.sk-serial,\n",
              "div.sk-item {\n",
              "  /* draw centered vertical line to link estimators */\n",
              "  background-image: linear-gradient(var(--sklearn-color-text-on-default-background), var(--sklearn-color-text-on-default-background));\n",
              "  background-size: 2px 100%;\n",
              "  background-repeat: no-repeat;\n",
              "  background-position: center center;\n",
              "}\n",
              "\n",
              "/* Parallel-specific style estimator block */\n",
              "\n",
              "#sk-container-id-1 div.sk-parallel-item::after {\n",
              "  content: \"\";\n",
              "  width: 100%;\n",
              "  border-bottom: 2px solid var(--sklearn-color-text-on-default-background);\n",
              "  flex-grow: 1;\n",
              "}\n",
              "\n",
              "#sk-container-id-1 div.sk-parallel {\n",
              "  display: flex;\n",
              "  align-items: stretch;\n",
              "  justify-content: center;\n",
              "  background-color: var(--sklearn-color-background);\n",
              "  position: relative;\n",
              "}\n",
              "\n",
              "#sk-container-id-1 div.sk-parallel-item {\n",
              "  display: flex;\n",
              "  flex-direction: column;\n",
              "}\n",
              "\n",
              "#sk-container-id-1 div.sk-parallel-item:first-child::after {\n",
              "  align-self: flex-end;\n",
              "  width: 50%;\n",
              "}\n",
              "\n",
              "#sk-container-id-1 div.sk-parallel-item:last-child::after {\n",
              "  align-self: flex-start;\n",
              "  width: 50%;\n",
              "}\n",
              "\n",
              "#sk-container-id-1 div.sk-parallel-item:only-child::after {\n",
              "  width: 0;\n",
              "}\n",
              "\n",
              "/* Serial-specific style estimator block */\n",
              "\n",
              "#sk-container-id-1 div.sk-serial {\n",
              "  display: flex;\n",
              "  flex-direction: column;\n",
              "  align-items: center;\n",
              "  background-color: var(--sklearn-color-background);\n",
              "  padding-right: 1em;\n",
              "  padding-left: 1em;\n",
              "}\n",
              "\n",
              "\n",
              "/* Toggleable style: style used for estimator/Pipeline/ColumnTransformer box that is\n",
              "clickable and can be expanded/collapsed.\n",
              "- Pipeline and ColumnTransformer use this feature and define the default style\n",
              "- Estimators will overwrite some part of the style using the `sk-estimator` class\n",
              "*/\n",
              "\n",
              "/* Pipeline and ColumnTransformer style (default) */\n",
              "\n",
              "#sk-container-id-1 div.sk-toggleable {\n",
              "  /* Default theme specific background. It is overwritten whether we have a\n",
              "  specific estimator or a Pipeline/ColumnTransformer */\n",
              "  background-color: var(--sklearn-color-background);\n",
              "}\n",
              "\n",
              "/* Toggleable label */\n",
              "#sk-container-id-1 label.sk-toggleable__label {\n",
              "  cursor: pointer;\n",
              "  display: flex;\n",
              "  width: 100%;\n",
              "  margin-bottom: 0;\n",
              "  padding: 0.5em;\n",
              "  box-sizing: border-box;\n",
              "  text-align: center;\n",
              "  align-items: start;\n",
              "  justify-content: space-between;\n",
              "  gap: 0.5em;\n",
              "}\n",
              "\n",
              "#sk-container-id-1 label.sk-toggleable__label .caption {\n",
              "  font-size: 0.6rem;\n",
              "  font-weight: lighter;\n",
              "  color: var(--sklearn-color-text-muted);\n",
              "}\n",
              "\n",
              "#sk-container-id-1 label.sk-toggleable__label-arrow:before {\n",
              "  /* Arrow on the left of the label */\n",
              "  content: \"▸\";\n",
              "  float: left;\n",
              "  margin-right: 0.25em;\n",
              "  color: var(--sklearn-color-icon);\n",
              "}\n",
              "\n",
              "#sk-container-id-1 label.sk-toggleable__label-arrow:hover:before {\n",
              "  color: var(--sklearn-color-text);\n",
              "}\n",
              "\n",
              "/* Toggleable content - dropdown */\n",
              "\n",
              "#sk-container-id-1 div.sk-toggleable__content {\n",
              "  max-height: 0;\n",
              "  max-width: 0;\n",
              "  overflow: hidden;\n",
              "  text-align: left;\n",
              "  /* unfitted */\n",
              "  background-color: var(--sklearn-color-unfitted-level-0);\n",
              "}\n",
              "\n",
              "#sk-container-id-1 div.sk-toggleable__content.fitted {\n",
              "  /* fitted */\n",
              "  background-color: var(--sklearn-color-fitted-level-0);\n",
              "}\n",
              "\n",
              "#sk-container-id-1 div.sk-toggleable__content pre {\n",
              "  margin: 0.2em;\n",
              "  border-radius: 0.25em;\n",
              "  color: var(--sklearn-color-text);\n",
              "  /* unfitted */\n",
              "  background-color: var(--sklearn-color-unfitted-level-0);\n",
              "}\n",
              "\n",
              "#sk-container-id-1 div.sk-toggleable__content.fitted pre {\n",
              "  /* unfitted */\n",
              "  background-color: var(--sklearn-color-fitted-level-0);\n",
              "}\n",
              "\n",
              "#sk-container-id-1 input.sk-toggleable__control:checked~div.sk-toggleable__content {\n",
              "  /* Expand drop-down */\n",
              "  max-height: 200px;\n",
              "  max-width: 100%;\n",
              "  overflow: auto;\n",
              "}\n",
              "\n",
              "#sk-container-id-1 input.sk-toggleable__control:checked~label.sk-toggleable__label-arrow:before {\n",
              "  content: \"▾\";\n",
              "}\n",
              "\n",
              "/* Pipeline/ColumnTransformer-specific style */\n",
              "\n",
              "#sk-container-id-1 div.sk-label input.sk-toggleable__control:checked~label.sk-toggleable__label {\n",
              "  color: var(--sklearn-color-text);\n",
              "  background-color: var(--sklearn-color-unfitted-level-2);\n",
              "}\n",
              "\n",
              "#sk-container-id-1 div.sk-label.fitted input.sk-toggleable__control:checked~label.sk-toggleable__label {\n",
              "  background-color: var(--sklearn-color-fitted-level-2);\n",
              "}\n",
              "\n",
              "/* Estimator-specific style */\n",
              "\n",
              "/* Colorize estimator box */\n",
              "#sk-container-id-1 div.sk-estimator input.sk-toggleable__control:checked~label.sk-toggleable__label {\n",
              "  /* unfitted */\n",
              "  background-color: var(--sklearn-color-unfitted-level-2);\n",
              "}\n",
              "\n",
              "#sk-container-id-1 div.sk-estimator.fitted input.sk-toggleable__control:checked~label.sk-toggleable__label {\n",
              "  /* fitted */\n",
              "  background-color: var(--sklearn-color-fitted-level-2);\n",
              "}\n",
              "\n",
              "#sk-container-id-1 div.sk-label label.sk-toggleable__label,\n",
              "#sk-container-id-1 div.sk-label label {\n",
              "  /* The background is the default theme color */\n",
              "  color: var(--sklearn-color-text-on-default-background);\n",
              "}\n",
              "\n",
              "/* On hover, darken the color of the background */\n",
              "#sk-container-id-1 div.sk-label:hover label.sk-toggleable__label {\n",
              "  color: var(--sklearn-color-text);\n",
              "  background-color: var(--sklearn-color-unfitted-level-2);\n",
              "}\n",
              "\n",
              "/* Label box, darken color on hover, fitted */\n",
              "#sk-container-id-1 div.sk-label.fitted:hover label.sk-toggleable__label.fitted {\n",
              "  color: var(--sklearn-color-text);\n",
              "  background-color: var(--sklearn-color-fitted-level-2);\n",
              "}\n",
              "\n",
              "/* Estimator label */\n",
              "\n",
              "#sk-container-id-1 div.sk-label label {\n",
              "  font-family: monospace;\n",
              "  font-weight: bold;\n",
              "  display: inline-block;\n",
              "  line-height: 1.2em;\n",
              "}\n",
              "\n",
              "#sk-container-id-1 div.sk-label-container {\n",
              "  text-align: center;\n",
              "}\n",
              "\n",
              "/* Estimator-specific */\n",
              "#sk-container-id-1 div.sk-estimator {\n",
              "  font-family: monospace;\n",
              "  border: 1px dotted var(--sklearn-color-border-box);\n",
              "  border-radius: 0.25em;\n",
              "  box-sizing: border-box;\n",
              "  margin-bottom: 0.5em;\n",
              "  /* unfitted */\n",
              "  background-color: var(--sklearn-color-unfitted-level-0);\n",
              "}\n",
              "\n",
              "#sk-container-id-1 div.sk-estimator.fitted {\n",
              "  /* fitted */\n",
              "  background-color: var(--sklearn-color-fitted-level-0);\n",
              "}\n",
              "\n",
              "/* on hover */\n",
              "#sk-container-id-1 div.sk-estimator:hover {\n",
              "  /* unfitted */\n",
              "  background-color: var(--sklearn-color-unfitted-level-2);\n",
              "}\n",
              "\n",
              "#sk-container-id-1 div.sk-estimator.fitted:hover {\n",
              "  /* fitted */\n",
              "  background-color: var(--sklearn-color-fitted-level-2);\n",
              "}\n",
              "\n",
              "/* Specification for estimator info (e.g. \"i\" and \"?\") */\n",
              "\n",
              "/* Common style for \"i\" and \"?\" */\n",
              "\n",
              ".sk-estimator-doc-link,\n",
              "a:link.sk-estimator-doc-link,\n",
              "a:visited.sk-estimator-doc-link {\n",
              "  float: right;\n",
              "  font-size: smaller;\n",
              "  line-height: 1em;\n",
              "  font-family: monospace;\n",
              "  background-color: var(--sklearn-color-background);\n",
              "  border-radius: 1em;\n",
              "  height: 1em;\n",
              "  width: 1em;\n",
              "  text-decoration: none !important;\n",
              "  margin-left: 0.5em;\n",
              "  text-align: center;\n",
              "  /* unfitted */\n",
              "  border: var(--sklearn-color-unfitted-level-1) 1pt solid;\n",
              "  color: var(--sklearn-color-unfitted-level-1);\n",
              "}\n",
              "\n",
              ".sk-estimator-doc-link.fitted,\n",
              "a:link.sk-estimator-doc-link.fitted,\n",
              "a:visited.sk-estimator-doc-link.fitted {\n",
              "  /* fitted */\n",
              "  border: var(--sklearn-color-fitted-level-1) 1pt solid;\n",
              "  color: var(--sklearn-color-fitted-level-1);\n",
              "}\n",
              "\n",
              "/* On hover */\n",
              "div.sk-estimator:hover .sk-estimator-doc-link:hover,\n",
              ".sk-estimator-doc-link:hover,\n",
              "div.sk-label-container:hover .sk-estimator-doc-link:hover,\n",
              ".sk-estimator-doc-link:hover {\n",
              "  /* unfitted */\n",
              "  background-color: var(--sklearn-color-unfitted-level-3);\n",
              "  color: var(--sklearn-color-background);\n",
              "  text-decoration: none;\n",
              "}\n",
              "\n",
              "div.sk-estimator.fitted:hover .sk-estimator-doc-link.fitted:hover,\n",
              ".sk-estimator-doc-link.fitted:hover,\n",
              "div.sk-label-container:hover .sk-estimator-doc-link.fitted:hover,\n",
              ".sk-estimator-doc-link.fitted:hover {\n",
              "  /* fitted */\n",
              "  background-color: var(--sklearn-color-fitted-level-3);\n",
              "  color: var(--sklearn-color-background);\n",
              "  text-decoration: none;\n",
              "}\n",
              "\n",
              "/* Span, style for the box shown on hovering the info icon */\n",
              ".sk-estimator-doc-link span {\n",
              "  display: none;\n",
              "  z-index: 9999;\n",
              "  position: relative;\n",
              "  font-weight: normal;\n",
              "  right: .2ex;\n",
              "  padding: .5ex;\n",
              "  margin: .5ex;\n",
              "  width: min-content;\n",
              "  min-width: 20ex;\n",
              "  max-width: 50ex;\n",
              "  color: var(--sklearn-color-text);\n",
              "  box-shadow: 2pt 2pt 4pt #999;\n",
              "  /* unfitted */\n",
              "  background: var(--sklearn-color-unfitted-level-0);\n",
              "  border: .5pt solid var(--sklearn-color-unfitted-level-3);\n",
              "}\n",
              "\n",
              ".sk-estimator-doc-link.fitted span {\n",
              "  /* fitted */\n",
              "  background: var(--sklearn-color-fitted-level-0);\n",
              "  border: var(--sklearn-color-fitted-level-3);\n",
              "}\n",
              "\n",
              ".sk-estimator-doc-link:hover span {\n",
              "  display: block;\n",
              "}\n",
              "\n",
              "/* \"?\"-specific style due to the `<a>` HTML tag */\n",
              "\n",
              "#sk-container-id-1 a.estimator_doc_link {\n",
              "  float: right;\n",
              "  font-size: 1rem;\n",
              "  line-height: 1em;\n",
              "  font-family: monospace;\n",
              "  background-color: var(--sklearn-color-background);\n",
              "  border-radius: 1rem;\n",
              "  height: 1rem;\n",
              "  width: 1rem;\n",
              "  text-decoration: none;\n",
              "  /* unfitted */\n",
              "  color: var(--sklearn-color-unfitted-level-1);\n",
              "  border: var(--sklearn-color-unfitted-level-1) 1pt solid;\n",
              "}\n",
              "\n",
              "#sk-container-id-1 a.estimator_doc_link.fitted {\n",
              "  /* fitted */\n",
              "  border: var(--sklearn-color-fitted-level-1) 1pt solid;\n",
              "  color: var(--sklearn-color-fitted-level-1);\n",
              "}\n",
              "\n",
              "/* On hover */\n",
              "#sk-container-id-1 a.estimator_doc_link:hover {\n",
              "  /* unfitted */\n",
              "  background-color: var(--sklearn-color-unfitted-level-3);\n",
              "  color: var(--sklearn-color-background);\n",
              "  text-decoration: none;\n",
              "}\n",
              "\n",
              "#sk-container-id-1 a.estimator_doc_link.fitted:hover {\n",
              "  /* fitted */\n",
              "  background-color: var(--sklearn-color-fitted-level-3);\n",
              "}\n",
              "</style><div id=\"sk-container-id-1\" class=\"sk-top-container\"><div class=\"sk-text-repr-fallback\"><pre>RandomForestClassifier(random_state=1)</pre><b>In a Jupyter environment, please rerun this cell to show the HTML representation or trust the notebook. <br />On GitHub, the HTML representation is unable to render, please try loading this page with nbviewer.org.</b></div><div class=\"sk-container\" hidden><div class=\"sk-item\"><div class=\"sk-estimator fitted sk-toggleable\"><input class=\"sk-toggleable__control sk-hidden--visually\" id=\"sk-estimator-id-1\" type=\"checkbox\" checked><label for=\"sk-estimator-id-1\" class=\"sk-toggleable__label fitted sk-toggleable__label-arrow\"><div><div>RandomForestClassifier</div></div><div><a class=\"sk-estimator-doc-link fitted\" rel=\"noreferrer\" target=\"_blank\" href=\"https://scikit-learn.org/1.6/modules/generated/sklearn.ensemble.RandomForestClassifier.html\">?<span>Documentation for RandomForestClassifier</span></a><span class=\"sk-estimator-doc-link fitted\">i<span>Fitted</span></span></div></label><div class=\"sk-toggleable__content fitted\"><pre>RandomForestClassifier(random_state=1)</pre></div> </div></div></div></div>"
            ]
          },
          "metadata": {},
          "execution_count": 311
        }
      ]
    },
    {
      "source": [
        "# Predict using CSK-RCB context\n",
        "new_match_data = {\n",
        "    'venue': 'M Chinnaswamy Stadium',\n",
        "    'toss_decision': 'bat'\n",
        "}\n",
        "\n",
        "encoded_input_csk_rcb = [\n",
        "    le_venue.transform([new_match_data['venue']])[0],\n",
        "    le_toss.transform([new_match_data['toss_decision']])[0]\n",
        "]\n",
        "\n",
        "predicted_strategy = csk_rcb_model.predict([encoded_input_csk_rcb])[0]\n",
        "print(f\"Team-Specific Strategy (CSK vs RCB): {predicted_strategy}\")"
      ],
      "cell_type": "code",
      "metadata": {
        "colab": {
          "base_uri": "https://localhost:8080/"
        },
        "id": "ueyMdOfDD1iJ",
        "outputId": "711b343e-c02d-4deb-d50a-955f1bfd210e"
      },
      "execution_count": 314,
      "outputs": [
        {
          "output_type": "stream",
          "name": "stdout",
          "text": [
            "Team-Specific Strategy (CSK vs RCB): Aggressive\n"
          ]
        }
      ]
    },
    {
      "source": [
        "import ipywidgets as widgets\n",
        "from IPython.display import display\n",
        "\n",
        "# Venue Selection\n",
        "venue_widget = widgets.Dropdown(\n",
        "    options=['Wankhede', 'Chepauk', 'Chinnaswamy'],\n",
        "    description='Venue:'\n",
        ")\n",
        "\n",
        "# Toss Decision\n",
        "toss_widget = widgets.Dropdown(\n",
        "    options=['bat', 'field'],\n",
        "    description='Toss Decision:'\n",
        ")\n",
        "\n",
        "\n",
        "team1_lineup_widget = widgets.SelectMultiple(\n",
        "    options=['CH Gayle', 'AB de Villiers', 'GJ Maxwell'],\n",
        "    description='Team 1 Lineup:'\n",
        ")\n",
        "\n",
        "team2_lineup_widget = widgets.SelectMultiple(\n",
        "    options=['DJ Bravo', 'JR Hazlewood', 'MJ Santner'],\n",
        "    description='Team 2 Lineup:'\n",
        ")\n",
        "\n",
        "# Display widgets\n",
        "display(venue_widget, toss_widget, team1_lineup_widget, team2_lineup_widget)"
      ],
      "cell_type": "code",
      "metadata": {
        "colab": {
          "base_uri": "https://localhost:8080/",
          "height": 262,
          "referenced_widgets": [
            "fcb26d24b9a140d8b78e7e0b2e94ceab",
            "26cdf9be3c5843739b9ab4f92ca73103",
            "4ce540dfb80f43dc9f61e53c8adad3ed",
            "b481d437f85d49739b66a3e9eea36255",
            "27557253554b4c44bb396b26bbdd0c41",
            "4b13066c153e49c68699e6d908059225",
            "feee2746b96f4f7ca6cfcd53349deba2",
            "48fd12d36c0841b89792923be0aab2a2",
            "1912171f0e1b4f3d902f62ed625ab2e0",
            "a6b348f072dd4c5888639dde48eaf1bc",
            "08793599afbc49f49694e2b88cc6cbc0",
            "c8d6c547dc9e49469ff69a17a21b4963"
          ]
        },
        "id": "YJfov3bKFE1S",
        "outputId": "06ac725d-2c44-470b-a553-d84de0ee5958"
      },
      "execution_count": 315,
      "outputs": [
        {
          "output_type": "display_data",
          "data": {
            "text/plain": [
              "Dropdown(description='Venue:', options=('Wankhede', 'Chepauk', 'Chinnaswamy'), value='Wankhede')"
            ],
            "application/vnd.jupyter.widget-view+json": {
              "version_major": 2,
              "version_minor": 0,
              "model_id": "fcb26d24b9a140d8b78e7e0b2e94ceab"
            }
          },
          "metadata": {}
        },
        {
          "output_type": "display_data",
          "data": {
            "text/plain": [
              "Dropdown(description='Toss Decision:', options=('bat', 'field'), value='bat')"
            ],
            "application/vnd.jupyter.widget-view+json": {
              "version_major": 2,
              "version_minor": 0,
              "model_id": "b481d437f85d49739b66a3e9eea36255"
            }
          },
          "metadata": {}
        },
        {
          "output_type": "display_data",
          "data": {
            "text/plain": [
              "SelectMultiple(description='Team 1 Lineup:', options=('CH Gayle', 'AB de Villiers', 'GJ Maxwell'), value=())"
            ],
            "application/vnd.jupyter.widget-view+json": {
              "version_major": 2,
              "version_minor": 0,
              "model_id": "feee2746b96f4f7ca6cfcd53349deba2"
            }
          },
          "metadata": {}
        },
        {
          "output_type": "display_data",
          "data": {
            "text/plain": [
              "SelectMultiple(description='Team 2 Lineup:', options=('DJ Bravo', 'JR Hazlewood', 'MJ Santner'), value=())"
            ],
            "application/vnd.jupyter.widget-view+json": {
              "version_major": 2,
              "version_minor": 0,
              "model_id": "a6b348f072dd4c5888639dde48eaf1bc"
            }
          },
          "metadata": {}
        }
      ]
    },
    {
      "source": [
        "def simulate_match_with_factors(start_state=(0, 0, 0), venue= 'M Chinnaswamy Stadium',\n",
        "                                 bowler_type='Pace', toss_decision='bat',\n",
        "                                 team1_lineup=[], team2_lineup=[]):\n",
        "    current_state = start_state\n",
        "    match_states = [current_state]\n",
        "\n",
        "\n",
        "    while current_state[2] < 120 and current_state[1] < 10:\n",
        "        if current_state in state_transitions:\n",
        "            next_states, probabilities = state_transitions[current_state]\n",
        "            probabilities = adjust_probabilities(current_state, next_states, probabilities, venue, bowler_type)\n",
        "\n",
        "            # Ensure next state's ball number doesn't exceed 120 and is unique\n",
        "            valid_next_states = [state for state in next_states\n",
        "                                 if state[2] <= 120 and state[2] > current_state[2]]\n",
        "            if valid_next_states:\n",
        "                # Adjust probabilities for valid states\n",
        "                valid_probabilities = [probabilities[next_states.index(state)] for state in valid_next_states]\n",
        "                # Normalize probabilities\n",
        "                valid_probabilities = np.array(valid_probabilities) / sum(valid_probabilities)\n",
        "\n",
        "                current_state = random.choices(valid_next_states, valid_probabilities)[0]\n",
        "                match_states.append(current_state)\n",
        "            else:\n",
        "                break  # No valid next states, end simulation\n",
        "        else:\n",
        "            break  # Current state not found in transitions, end simulation\n",
        "\n",
        "\n",
        "    return match_states"
      ],
      "cell_type": "code",
      "metadata": {
        "id": "YbYE8I8IF8rk"
      },
      "execution_count": 317,
      "outputs": []
    },
    {
      "source": [
        "import matplotlib.pyplot as plt\n",
        "button = widgets.Button(description=\"Simulate Match\")\n",
        "\n",
        "# Output widget to display results\n",
        "output = widgets.Output()\n",
        "\n",
        "def on_input_change(change):\n",
        "    with output:\n",
        "        output.clear_output(wait=True)  # Clear previous output\n",
        "\n",
        "        # Get values from input widgets\n",
        "        venue = venue_widget.value\n",
        "        toss_decision = toss_widget.value\n",
        "        team1_lineup = list(team1_lineup_widget.value)  # Convert to list\n",
        "        team2_lineup = list(team2_lineup_widget.value)  # Convert to list\n",
        "\n",
        "        # Run simulation with updated inputs\n",
        "        match = simulate_match_with_factors(venue=venue, bowler_type='Pace', # Or dynamic bowler type\n",
        "                                             toss_decision=toss_decision,\n",
        "                                             team1_lineup=team1_lineup,\n",
        "                                             team2_lineup=team2_lineup)\n",
        "\n",
        "        # ... (Process and visualize the simulation results) ...\n",
        "        df = pd.DataFrame(match, columns=[\"Runs\", \"Wickets\", \"Balls\"])\n",
        "        df = df[df['Balls'] <= 120]  # Add this line for filtering\n",
        "        df.sort_values(by=['Balls'], inplace=True)\n",
        "        df['Ball Number'] = df.index\n",
        "           # Plot Runs and Wickets\n",
        "        fig, axes = plt.subplots(1, 2, figsize=(14, 5))\n",
        "\n",
        "        # Runs vs Balls\n",
        "        axes[0].plot(df['Balls'], df['Runs'], color='blue')\n",
        "        axes[0].set_title('Runs vs Balls')\n",
        "        axes[0].set_xlabel('Balls')\n",
        "        axes[0].set_ylabel('Runs')\n",
        "\n",
        "        # Wickets vs Balls\n",
        "        axes[1].plot(df['Balls'], df['Wickets'], color='red')\n",
        "        axes[1].set_title('Wickets vs Balls')\n",
        "        axes[1].set_xlabel('Balls')\n",
        "        axes[1].set_ylabel('Wickets')\n",
        "\n",
        "        plt.tight_layout()\n",
        "        plt.show()\n",
        "\n",
        "button.on_click(on_button_clicked)\n",
        "\n",
        "# Observe widget changes and trigger simulation\n",
        "venue_widget.observe(on_input_change, names='value')\n",
        "toss_widget.observe(on_input_change, names='value')\n",
        "team1_lineup_widget.observe(on_input_change, names='value')\n",
        "team2_lineup_widget.observe(on_input_change, names='value')\n",
        "\n",
        "# Display the output area\n",
        "display(venue_widget, toss_widget, team1_lineup_widget, team2_lineup_widget, button, output)"
      ],
      "cell_type": "code",
      "metadata": {
        "colab": {
          "base_uri": "https://localhost:8080/",
          "height": 701,
          "referenced_widgets": [
            "fcb26d24b9a140d8b78e7e0b2e94ceab",
            "26cdf9be3c5843739b9ab4f92ca73103",
            "4ce540dfb80f43dc9f61e53c8adad3ed",
            "b481d437f85d49739b66a3e9eea36255",
            "27557253554b4c44bb396b26bbdd0c41",
            "4b13066c153e49c68699e6d908059225",
            "feee2746b96f4f7ca6cfcd53349deba2",
            "48fd12d36c0841b89792923be0aab2a2",
            "1912171f0e1b4f3d902f62ed625ab2e0",
            "a6b348f072dd4c5888639dde48eaf1bc",
            "08793599afbc49f49694e2b88cc6cbc0",
            "c8d6c547dc9e49469ff69a17a21b4963",
            "f7b732cbee144887beb10b5807bce1fa",
            "58aea2858ba74fd1a192a1c2f1ef39bd",
            "d379ec8bfd744406a68313db167bb6d8",
            "d29541d8ef5c4253a977d3e6c012a8a2",
            "bd289913939d46d79fb59ef0fb7056a2"
          ]
        },
        "id": "SLW7uBmpGiNN",
        "outputId": "619f64e2-968b-452b-971d-88ae95dcf507"
      },
      "execution_count": 323,
      "outputs": [
        {
          "output_type": "display_data",
          "data": {
            "text/plain": [
              "Dropdown(description='Venue:', options=('Wankhede', 'Chepauk', 'Chinnaswamy'), value='Wankhede')"
            ],
            "application/vnd.jupyter.widget-view+json": {
              "version_major": 2,
              "version_minor": 0,
              "model_id": "fcb26d24b9a140d8b78e7e0b2e94ceab"
            }
          },
          "metadata": {}
        },
        {
          "output_type": "display_data",
          "data": {
            "text/plain": [
              "Dropdown(description='Toss Decision:', options=('bat', 'field'), value='bat')"
            ],
            "application/vnd.jupyter.widget-view+json": {
              "version_major": 2,
              "version_minor": 0,
              "model_id": "b481d437f85d49739b66a3e9eea36255"
            }
          },
          "metadata": {}
        },
        {
          "output_type": "display_data",
          "data": {
            "text/plain": [
              "SelectMultiple(description='Team 1 Lineup:', options=('CH Gayle', 'AB de Villiers', 'GJ Maxwell'), value=())"
            ],
            "application/vnd.jupyter.widget-view+json": {
              "version_major": 2,
              "version_minor": 0,
              "model_id": "feee2746b96f4f7ca6cfcd53349deba2"
            }
          },
          "metadata": {}
        },
        {
          "output_type": "display_data",
          "data": {
            "text/plain": [
              "SelectMultiple(description='Team 2 Lineup:', options=('DJ Bravo', 'JR Hazlewood', 'MJ Santner'), value=())"
            ],
            "application/vnd.jupyter.widget-view+json": {
              "version_major": 2,
              "version_minor": 0,
              "model_id": "a6b348f072dd4c5888639dde48eaf1bc"
            }
          },
          "metadata": {}
        },
        {
          "output_type": "display_data",
          "data": {
            "text/plain": [
              "Button(description='Simulate Match', style=ButtonStyle())"
            ],
            "application/vnd.jupyter.widget-view+json": {
              "version_major": 2,
              "version_minor": 0,
              "model_id": "f7b732cbee144887beb10b5807bce1fa"
            }
          },
          "metadata": {}
        },
        {
          "output_type": "display_data",
          "data": {
            "text/plain": [
              "Output()"
            ],
            "application/vnd.jupyter.widget-view+json": {
              "version_major": 2,
              "version_minor": 0,
              "model_id": "d29541d8ef5c4253a977d3e6c012a8a2"
            }
          },
          "metadata": {}
        }
      ]
    },
    {
      "cell_type": "markdown",
      "source": [
        "Title: Cricket's Oracle: Unlocking the Game's Secrets with AI\n",
        "\n",
        "Introduction:\n",
        "\n",
        "Imagine a world where the unpredictable dance of bat and ball could be foreseen, where every strategic decision on the cricket field was backed by data-driven wisdom. This notebook opens the door to that world—a world where an AI oracle whispers its insights, revealing the hidden patterns of the game. We're not just simulating cricket; we're unraveling its secrets.\n",
        "\n",
        "A Data-Driven Odyssey:\n",
        "\n",
        "Our journey begins with a deep dive into the rich history of cricket, preserved in meticulously detailed datasets. Each delivery, each boundary, each wicket—all chronicled and ready to fuel our AI-powered odyssey. These datasets become our map, guiding us through the twists and turns of the game.\n",
        "\n",
        "Bringing the Game to Life:\n",
        "\n",
        "Using the power of Markov Chains, we've built a virtual cricket ground where matches unfold ball by ball. It's like watching a phantom game, where every run, every appeal, every strategic decision echoes reality. But this isn't just about recreating the past; it's about predicting the future.\n",
        "\n",
        "The AI Strategist:\n",
        "\n",
        "Now, picture a cunning opponent, an AI mastermind constantly analyzing the game and evolving its strategies. This AI isn't just playing; it's thinking, adapting, and anticipating. It's like having a legendary captain whispering secrets in your ear, guiding you towards victory.\n",
        "\n",
        "Unveiling Hidden Patterns:\n",
        "\n",
        "Our AI strategist becomes a crystal ball, revealing insights hidden within the data. Imagine a coach pondering the best batting order, or a captain strategizing bowler rotations—our AI provides the answers, backed by historical data and cutting-edge analysis. It's like having a cricketing Nostradamus on your team.\n",
        "\n",
        "Interactive Playbook:\n",
        "\n",
        "But this isn't just a spectator sport. Using intuitive dashboards powered by Gradio, we can step into the game ourselves. Imagine fine-tuning strategies, experimenting with different team combinations, and witnessing the impact in real-time. It's like having a personal cricket laboratory at your fingertips.\n",
        "\n",
        "The CSK-RCB Showdown:\n",
        "\n",
        "Let's rewind the clock to a classic rivalry—CSK versus RCB. Our AI strategist dives deep into historical data, uncovering team-specific tactics and predicting the likely course of the match. It's like reliving those epic battles with a new level of understanding.\n",
        "\n",
        "A Glimpse into the Future:\n",
        "\n",
        "This notebook isn't just about predicting match outcomes; it's about transforming the way we experience cricket. Imagine commentators armed with AI-powered insights, fantasy leagues elevated by data-driven predictions, and even scouts identifying hidden talents. The future of cricket is intelligent, interactive, and immersive.\n",
        "\n",
        "Conclusion:\n",
        "\n",
        "Cricket's Oracle has spoken. It has unveiled the hidden patterns of the game, offering us a glimpse into a future where data and AI illuminate the path to victory. This isn't just a simulator; it's a revolution—a revolution that promises to make cricket even more thrilling, strategic, and captivating."
      ],
      "metadata": {
        "id": "s_yjfzrAJ-iH"
      }
    }
  ]
}